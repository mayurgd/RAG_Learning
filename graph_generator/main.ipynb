{
 "cells": [
  {
   "cell_type": "code",
   "execution_count": 25,
   "metadata": {},
   "outputs": [],
   "source": [
    "import pandas as pd\n",
    "\n",
    "df = pd.read_csv(r\"EFX_dataset25.csv\")\n",
    "df = df[[\"EFX_LEGSUBNAMEALL\", \"EFX_LEGDOMULTNAMEALL\", \"EFX_AFFLULTNAMEALL\"]]\n",
    "df = df.drop_duplicates()"
   ]
  },
  {
   "cell_type": "code",
   "execution_count": 26,
   "metadata": {},
   "outputs": [],
   "source": [
    "# 'Root' = 'EFX_LEGDOMULTNAMEALL'\n",
    "# 'Child' = 'EFX_LEGDOMULTNAMEALL' 'EFX_LEGSUBNAMEALL'\n",
    "# 'EFX_LEGSUBNAMEALL' --> 'EFX_LEGDOMULTNAMEALL' --> 'EFX_AFFLULTNAMEALL'"
   ]
  },
  {
   "cell_type": "code",
   "execution_count": null,
   "metadata": {},
   "outputs": [
    {
     "data": {
      "application/vnd.plotly.v1+json": {
       "config": {
        "plotlyServerURL": "https://plot.ly"
       },
       "data": [
        {
         "hoverinfo": "none",
         "line": {
          "color": "black",
          "width": 1.5
         },
         "mode": "lines",
         "type": "scatter",
         "x": [
          2540,
          2540,
          null,
          2540,
          27,
          null,
          2540,
          136,
          null,
          2540,
          308,
          null,
          2540,
          470,
          null,
          2540,
          620,
          null,
          2540,
          822,
          null,
          2540,
          1094,
          null,
          2540,
          1416,
          null,
          2540,
          1811,
          null,
          2540,
          2146,
          null,
          2540,
          2333,
          null,
          2540,
          2540,
          null,
          2540,
          2819,
          null,
          2540,
          3085,
          null,
          2540,
          3331,
          null,
          2540,
          3562,
          null,
          2540,
          3800,
          null,
          2540,
          4221,
          null,
          2540,
          4740,
          null,
          2540,
          5208,
          null,
          2540,
          2540,
          null,
          2540,
          5579,
          null,
          2540,
          5881,
          null,
          2540,
          6259,
          null
         ],
         "y": [
          162,
          90,
          null,
          90,
          18,
          null,
          90,
          18,
          null,
          90,
          18,
          null,
          90,
          18,
          null,
          90,
          18,
          null,
          90,
          18,
          null,
          90,
          18,
          null,
          90,
          18,
          null,
          90,
          18,
          null,
          90,
          18,
          null,
          90,
          18,
          null,
          90,
          18,
          null,
          90,
          18,
          null,
          90,
          18,
          null,
          90,
          18,
          null,
          90,
          18,
          null,
          90,
          18,
          null,
          90,
          18,
          null,
          90,
          18,
          null,
          90,
          18,
          null,
          90,
          90,
          null,
          90,
          18,
          null,
          90,
          18,
          null,
          90,
          18,
          null
         ]
        },
        {
         "hoverinfo": "text",
         "hovertext": [
          "DELOITTE TOUCHE TOHMATSU LIMITED",
          "DELOITTE US DENVER",
          "CIS",
          "DOBLIN INC",
          "HEAT INDUSTRIES",
          "ATADATA",
          "SFL SCIENTIFIC",
          "BERSIN BY DELOITTE",
          "BARRASSO CONSULTING L.L.C.",
          "INNOWAKE INTERNATIONAL INC",
          "DELOITTE FINANCIAL ADVISORY SERVICES LLP",
          "DELOITTE TAX LLP",
          "DELOITTE LLP",
          "DELOITTE SERVICES LP",
          "DELOITTE DEVELOPMENT LLC",
          "MONITOR DELOITTE",
          "THE MONITOR GROUP INC",
          "SENTEK GLOBAL",
          "DELOITTE CONSULTING L.P.",
          "DELOITTE TRANSACTIONS AND BUSINESS ANALYTICS LLP",
          "DELOITTE AND TOUCHE OVERSEAS SERVICES LLC",
          "DELOITTE TOUCHE TOHMATSU SERVICES, INC.",
          "DELOITTE AND TOUCHE LLP",
          "NATIONAL TELECONSULTANTS",
          "DELOITTE CONSULTING L.P. OF WASHINGTON"
         ],
         "marker": {
          "color": "lightblue",
          "size": 10
         },
         "mode": "markers+text",
         "text": [
          "DELOITTE TOUCHE TOHMATSU LIMITED",
          "DELOITTE US DENVER"
         ],
         "textposition": [
          "top center",
          "top center"
         ],
         "type": "scatter",
         "x": [
          2540,
          2540,
          27,
          136,
          308,
          470,
          620,
          822,
          1094,
          1416,
          1811,
          2146,
          2333,
          2540,
          2819,
          3085,
          3331,
          3562,
          3800,
          4221,
          4740,
          5208,
          5579,
          5881,
          6259
         ],
         "y": [
          162,
          90,
          18,
          18,
          18,
          18,
          18,
          18,
          18,
          18,
          18,
          18,
          18,
          18,
          18,
          18,
          18,
          18,
          18,
          18,
          18,
          18,
          18,
          18,
          18
         ]
        }
       ],
       "layout": {
        "annotations": [
         {
          "font": {
           "size": 10
          },
          "showarrow": false,
          "text": "CIS",
          "textangle": 90,
          "x": 27,
          "y": 3
         },
         {
          "font": {
           "size": 10
          },
          "showarrow": false,
          "text": "DOBLIN INC",
          "textangle": 90,
          "x": 136,
          "y": 3
         },
         {
          "font": {
           "size": 10
          },
          "showarrow": false,
          "text": "HEAT INDUSTRIES",
          "textangle": 90,
          "x": 308,
          "y": 3
         },
         {
          "font": {
           "size": 10
          },
          "showarrow": false,
          "text": "ATADATA",
          "textangle": 90,
          "x": 470,
          "y": 3
         },
         {
          "font": {
           "size": 10
          },
          "showarrow": false,
          "text": "SFL SCIENTIFIC",
          "textangle": 90,
          "x": 620,
          "y": 3
         },
         {
          "font": {
           "size": 10
          },
          "showarrow": false,
          "text": "BERSIN BY DELOITTE",
          "textangle": 90,
          "x": 822,
          "y": 3
         },
         {
          "font": {
           "size": 10
          },
          "showarrow": false,
          "text": "BARRASSO CONSULTING L.L.C.",
          "textangle": 90,
          "x": 1094,
          "y": 3
         },
         {
          "font": {
           "size": 10
          },
          "showarrow": false,
          "text": "INNOWAKE INTERNATIONAL INC",
          "textangle": 90,
          "x": 1416,
          "y": 3
         },
         {
          "font": {
           "size": 10
          },
          "showarrow": false,
          "text": "DELOITTE FINANCIAL ADVISORY SERVICES LLP",
          "textangle": 90,
          "x": 1811,
          "y": 3
         },
         {
          "font": {
           "size": 10
          },
          "showarrow": false,
          "text": "DELOITTE TAX LLP",
          "textangle": 90,
          "x": 2146,
          "y": 3
         },
         {
          "font": {
           "size": 10
          },
          "showarrow": false,
          "text": "DELOITTE LLP",
          "textangle": 90,
          "x": 2333,
          "y": 3
         },
         {
          "font": {
           "size": 10
          },
          "showarrow": false,
          "text": "DELOITTE SERVICES LP",
          "textangle": 90,
          "x": 2540,
          "y": 3
         },
         {
          "font": {
           "size": 10
          },
          "showarrow": false,
          "text": "DELOITTE DEVELOPMENT LLC",
          "textangle": 90,
          "x": 2819,
          "y": 3
         },
         {
          "font": {
           "size": 10
          },
          "showarrow": false,
          "text": "MONITOR DELOITTE",
          "textangle": 90,
          "x": 3085,
          "y": 3
         },
         {
          "font": {
           "size": 10
          },
          "showarrow": false,
          "text": "THE MONITOR GROUP INC",
          "textangle": 90,
          "x": 3331,
          "y": 3
         },
         {
          "font": {
           "size": 10
          },
          "showarrow": false,
          "text": "SENTEK GLOBAL",
          "textangle": 90,
          "x": 3562,
          "y": 3
         },
         {
          "font": {
           "size": 10
          },
          "showarrow": false,
          "text": "DELOITTE CONSULTING L.P.",
          "textangle": 90,
          "x": 3800,
          "y": 3
         },
         {
          "font": {
           "size": 10
          },
          "showarrow": false,
          "text": "DELOITTE TRANSACTIONS AND BUSINESS ANALYTICS LLP",
          "textangle": 90,
          "x": 4221,
          "y": 3
         },
         {
          "font": {
           "size": 10
          },
          "showarrow": false,
          "text": "DELOITTE AND TOUCHE OVERSEAS SERVICES LLC",
          "textangle": 90,
          "x": 4740,
          "y": 3
         },
         {
          "font": {
           "size": 10
          },
          "showarrow": false,
          "text": "DELOITTE TOUCHE TOHMATSU SERVICES, INC.",
          "textangle": 90,
          "x": 5208,
          "y": 3
         },
         {
          "font": {
           "size": 10
          },
          "showarrow": false,
          "text": "DELOITTE AND TOUCHE LLP",
          "textangle": 90,
          "x": 5579,
          "y": 3
         },
         {
          "font": {
           "size": 10
          },
          "showarrow": false,
          "text": "NATIONAL TELECONSULTANTS",
          "textangle": 90,
          "x": 5881,
          "y": 3
         },
         {
          "font": {
           "size": 10
          },
          "showarrow": false,
          "text": "DELOITTE CONSULTING L.P. OF WASHINGTON",
          "textangle": 90,
          "x": 6259,
          "y": 3
         }
        ],
        "height": 1000,
        "showlegend": false,
        "template": {
         "data": {
          "bar": [
           {
            "error_x": {
             "color": "#2a3f5f"
            },
            "error_y": {
             "color": "#2a3f5f"
            },
            "marker": {
             "line": {
              "color": "#E5ECF6",
              "width": 0.5
             },
             "pattern": {
              "fillmode": "overlay",
              "size": 10,
              "solidity": 0.2
             }
            },
            "type": "bar"
           }
          ],
          "barpolar": [
           {
            "marker": {
             "line": {
              "color": "#E5ECF6",
              "width": 0.5
             },
             "pattern": {
              "fillmode": "overlay",
              "size": 10,
              "solidity": 0.2
             }
            },
            "type": "barpolar"
           }
          ],
          "carpet": [
           {
            "aaxis": {
             "endlinecolor": "#2a3f5f",
             "gridcolor": "white",
             "linecolor": "white",
             "minorgridcolor": "white",
             "startlinecolor": "#2a3f5f"
            },
            "baxis": {
             "endlinecolor": "#2a3f5f",
             "gridcolor": "white",
             "linecolor": "white",
             "minorgridcolor": "white",
             "startlinecolor": "#2a3f5f"
            },
            "type": "carpet"
           }
          ],
          "choropleth": [
           {
            "colorbar": {
             "outlinewidth": 0,
             "ticks": ""
            },
            "type": "choropleth"
           }
          ],
          "contour": [
           {
            "colorbar": {
             "outlinewidth": 0,
             "ticks": ""
            },
            "colorscale": [
             [
              0,
              "#0d0887"
             ],
             [
              0.1111111111111111,
              "#46039f"
             ],
             [
              0.2222222222222222,
              "#7201a8"
             ],
             [
              0.3333333333333333,
              "#9c179e"
             ],
             [
              0.4444444444444444,
              "#bd3786"
             ],
             [
              0.5555555555555556,
              "#d8576b"
             ],
             [
              0.6666666666666666,
              "#ed7953"
             ],
             [
              0.7777777777777778,
              "#fb9f3a"
             ],
             [
              0.8888888888888888,
              "#fdca26"
             ],
             [
              1,
              "#f0f921"
             ]
            ],
            "type": "contour"
           }
          ],
          "contourcarpet": [
           {
            "colorbar": {
             "outlinewidth": 0,
             "ticks": ""
            },
            "type": "contourcarpet"
           }
          ],
          "heatmap": [
           {
            "colorbar": {
             "outlinewidth": 0,
             "ticks": ""
            },
            "colorscale": [
             [
              0,
              "#0d0887"
             ],
             [
              0.1111111111111111,
              "#46039f"
             ],
             [
              0.2222222222222222,
              "#7201a8"
             ],
             [
              0.3333333333333333,
              "#9c179e"
             ],
             [
              0.4444444444444444,
              "#bd3786"
             ],
             [
              0.5555555555555556,
              "#d8576b"
             ],
             [
              0.6666666666666666,
              "#ed7953"
             ],
             [
              0.7777777777777778,
              "#fb9f3a"
             ],
             [
              0.8888888888888888,
              "#fdca26"
             ],
             [
              1,
              "#f0f921"
             ]
            ],
            "type": "heatmap"
           }
          ],
          "histogram": [
           {
            "marker": {
             "pattern": {
              "fillmode": "overlay",
              "size": 10,
              "solidity": 0.2
             }
            },
            "type": "histogram"
           }
          ],
          "histogram2d": [
           {
            "colorbar": {
             "outlinewidth": 0,
             "ticks": ""
            },
            "colorscale": [
             [
              0,
              "#0d0887"
             ],
             [
              0.1111111111111111,
              "#46039f"
             ],
             [
              0.2222222222222222,
              "#7201a8"
             ],
             [
              0.3333333333333333,
              "#9c179e"
             ],
             [
              0.4444444444444444,
              "#bd3786"
             ],
             [
              0.5555555555555556,
              "#d8576b"
             ],
             [
              0.6666666666666666,
              "#ed7953"
             ],
             [
              0.7777777777777778,
              "#fb9f3a"
             ],
             [
              0.8888888888888888,
              "#fdca26"
             ],
             [
              1,
              "#f0f921"
             ]
            ],
            "type": "histogram2d"
           }
          ],
          "histogram2dcontour": [
           {
            "colorbar": {
             "outlinewidth": 0,
             "ticks": ""
            },
            "colorscale": [
             [
              0,
              "#0d0887"
             ],
             [
              0.1111111111111111,
              "#46039f"
             ],
             [
              0.2222222222222222,
              "#7201a8"
             ],
             [
              0.3333333333333333,
              "#9c179e"
             ],
             [
              0.4444444444444444,
              "#bd3786"
             ],
             [
              0.5555555555555556,
              "#d8576b"
             ],
             [
              0.6666666666666666,
              "#ed7953"
             ],
             [
              0.7777777777777778,
              "#fb9f3a"
             ],
             [
              0.8888888888888888,
              "#fdca26"
             ],
             [
              1,
              "#f0f921"
             ]
            ],
            "type": "histogram2dcontour"
           }
          ],
          "mesh3d": [
           {
            "colorbar": {
             "outlinewidth": 0,
             "ticks": ""
            },
            "type": "mesh3d"
           }
          ],
          "parcoords": [
           {
            "line": {
             "colorbar": {
              "outlinewidth": 0,
              "ticks": ""
             }
            },
            "type": "parcoords"
           }
          ],
          "pie": [
           {
            "automargin": true,
            "type": "pie"
           }
          ],
          "scatter": [
           {
            "fillpattern": {
             "fillmode": "overlay",
             "size": 10,
             "solidity": 0.2
            },
            "type": "scatter"
           }
          ],
          "scatter3d": [
           {
            "line": {
             "colorbar": {
              "outlinewidth": 0,
              "ticks": ""
             }
            },
            "marker": {
             "colorbar": {
              "outlinewidth": 0,
              "ticks": ""
             }
            },
            "type": "scatter3d"
           }
          ],
          "scattercarpet": [
           {
            "marker": {
             "colorbar": {
              "outlinewidth": 0,
              "ticks": ""
             }
            },
            "type": "scattercarpet"
           }
          ],
          "scattergeo": [
           {
            "marker": {
             "colorbar": {
              "outlinewidth": 0,
              "ticks": ""
             }
            },
            "type": "scattergeo"
           }
          ],
          "scattergl": [
           {
            "marker": {
             "colorbar": {
              "outlinewidth": 0,
              "ticks": ""
             }
            },
            "type": "scattergl"
           }
          ],
          "scattermap": [
           {
            "marker": {
             "colorbar": {
              "outlinewidth": 0,
              "ticks": ""
             }
            },
            "type": "scattermap"
           }
          ],
          "scattermapbox": [
           {
            "marker": {
             "colorbar": {
              "outlinewidth": 0,
              "ticks": ""
             }
            },
            "type": "scattermapbox"
           }
          ],
          "scatterpolar": [
           {
            "marker": {
             "colorbar": {
              "outlinewidth": 0,
              "ticks": ""
             }
            },
            "type": "scatterpolar"
           }
          ],
          "scatterpolargl": [
           {
            "marker": {
             "colorbar": {
              "outlinewidth": 0,
              "ticks": ""
             }
            },
            "type": "scatterpolargl"
           }
          ],
          "scatterternary": [
           {
            "marker": {
             "colorbar": {
              "outlinewidth": 0,
              "ticks": ""
             }
            },
            "type": "scatterternary"
           }
          ],
          "surface": [
           {
            "colorbar": {
             "outlinewidth": 0,
             "ticks": ""
            },
            "colorscale": [
             [
              0,
              "#0d0887"
             ],
             [
              0.1111111111111111,
              "#46039f"
             ],
             [
              0.2222222222222222,
              "#7201a8"
             ],
             [
              0.3333333333333333,
              "#9c179e"
             ],
             [
              0.4444444444444444,
              "#bd3786"
             ],
             [
              0.5555555555555556,
              "#d8576b"
             ],
             [
              0.6666666666666666,
              "#ed7953"
             ],
             [
              0.7777777777777778,
              "#fb9f3a"
             ],
             [
              0.8888888888888888,
              "#fdca26"
             ],
             [
              1,
              "#f0f921"
             ]
            ],
            "type": "surface"
           }
          ],
          "table": [
           {
            "cells": {
             "fill": {
              "color": "#EBF0F8"
             },
             "line": {
              "color": "white"
             }
            },
            "header": {
             "fill": {
              "color": "#C8D4E3"
             },
             "line": {
              "color": "white"
             }
            },
            "type": "table"
           }
          ]
         },
         "layout": {
          "annotationdefaults": {
           "arrowcolor": "#2a3f5f",
           "arrowhead": 0,
           "arrowwidth": 1
          },
          "autotypenumbers": "strict",
          "coloraxis": {
           "colorbar": {
            "outlinewidth": 0,
            "ticks": ""
           }
          },
          "colorscale": {
           "diverging": [
            [
             0,
             "#8e0152"
            ],
            [
             0.1,
             "#c51b7d"
            ],
            [
             0.2,
             "#de77ae"
            ],
            [
             0.3,
             "#f1b6da"
            ],
            [
             0.4,
             "#fde0ef"
            ],
            [
             0.5,
             "#f7f7f7"
            ],
            [
             0.6,
             "#e6f5d0"
            ],
            [
             0.7,
             "#b8e186"
            ],
            [
             0.8,
             "#7fbc41"
            ],
            [
             0.9,
             "#4d9221"
            ],
            [
             1,
             "#276419"
            ]
           ],
           "sequential": [
            [
             0,
             "#0d0887"
            ],
            [
             0.1111111111111111,
             "#46039f"
            ],
            [
             0.2222222222222222,
             "#7201a8"
            ],
            [
             0.3333333333333333,
             "#9c179e"
            ],
            [
             0.4444444444444444,
             "#bd3786"
            ],
            [
             0.5555555555555556,
             "#d8576b"
            ],
            [
             0.6666666666666666,
             "#ed7953"
            ],
            [
             0.7777777777777778,
             "#fb9f3a"
            ],
            [
             0.8888888888888888,
             "#fdca26"
            ],
            [
             1,
             "#f0f921"
            ]
           ],
           "sequentialminus": [
            [
             0,
             "#0d0887"
            ],
            [
             0.1111111111111111,
             "#46039f"
            ],
            [
             0.2222222222222222,
             "#7201a8"
            ],
            [
             0.3333333333333333,
             "#9c179e"
            ],
            [
             0.4444444444444444,
             "#bd3786"
            ],
            [
             0.5555555555555556,
             "#d8576b"
            ],
            [
             0.6666666666666666,
             "#ed7953"
            ],
            [
             0.7777777777777778,
             "#fb9f3a"
            ],
            [
             0.8888888888888888,
             "#fdca26"
            ],
            [
             1,
             "#f0f921"
            ]
           ]
          },
          "colorway": [
           "#636efa",
           "#EF553B",
           "#00cc96",
           "#ab63fa",
           "#FFA15A",
           "#19d3f3",
           "#FF6692",
           "#B6E880",
           "#FF97FF",
           "#FECB52"
          ],
          "font": {
           "color": "#2a3f5f"
          },
          "geo": {
           "bgcolor": "white",
           "lakecolor": "white",
           "landcolor": "#E5ECF6",
           "showlakes": true,
           "showland": true,
           "subunitcolor": "white"
          },
          "hoverlabel": {
           "align": "left"
          },
          "hovermode": "closest",
          "mapbox": {
           "style": "light"
          },
          "paper_bgcolor": "white",
          "plot_bgcolor": "#E5ECF6",
          "polar": {
           "angularaxis": {
            "gridcolor": "white",
            "linecolor": "white",
            "ticks": ""
           },
           "bgcolor": "#E5ECF6",
           "radialaxis": {
            "gridcolor": "white",
            "linecolor": "white",
            "ticks": ""
           }
          },
          "scene": {
           "xaxis": {
            "backgroundcolor": "#E5ECF6",
            "gridcolor": "white",
            "gridwidth": 2,
            "linecolor": "white",
            "showbackground": true,
            "ticks": "",
            "zerolinecolor": "white"
           },
           "yaxis": {
            "backgroundcolor": "#E5ECF6",
            "gridcolor": "white",
            "gridwidth": 2,
            "linecolor": "white",
            "showbackground": true,
            "ticks": "",
            "zerolinecolor": "white"
           },
           "zaxis": {
            "backgroundcolor": "#E5ECF6",
            "gridcolor": "white",
            "gridwidth": 2,
            "linecolor": "white",
            "showbackground": true,
            "ticks": "",
            "zerolinecolor": "white"
           }
          },
          "shapedefaults": {
           "line": {
            "color": "#2a3f5f"
           }
          },
          "ternary": {
           "aaxis": {
            "gridcolor": "white",
            "linecolor": "white",
            "ticks": ""
           },
           "baxis": {
            "gridcolor": "white",
            "linecolor": "white",
            "ticks": ""
           },
           "bgcolor": "#E5ECF6",
           "caxis": {
            "gridcolor": "white",
            "linecolor": "white",
            "ticks": ""
           }
          },
          "title": {
           "x": 0.05
          },
          "xaxis": {
           "automargin": true,
           "gridcolor": "white",
           "linecolor": "white",
           "ticks": "",
           "title": {
            "standoff": 15
           },
           "zerolinecolor": "white",
           "zerolinewidth": 2
          },
          "yaxis": {
           "automargin": true,
           "gridcolor": "white",
           "linecolor": "white",
           "ticks": "",
           "title": {
            "standoff": 15
           },
           "zerolinecolor": "white",
           "zerolinewidth": 2
          }
         }
        },
        "title": {
         "text": "Top-Down Hierarchy Graph"
        },
        "xaxis": {
         "showgrid": false,
         "showticklabels": false,
         "zeroline": false
        },
        "yaxis": {
         "showgrid": false,
         "showticklabels": false,
         "zeroline": false
        }
       }
      }
     },
     "metadata": {},
     "output_type": "display_data"
    }
   ],
   "source": [
    "import plotly.graph_objects as go\n",
    "import networkx as nx\n",
    "import pandas as pd\n",
    "\n",
    "# Create a directed graph\n",
    "G = nx.DiGraph()\n",
    "\n",
    "# Add edges to the graph\n",
    "for _, row in df.iterrows():\n",
    "    G.add_edge(row[\"EFX_AFFLULTNAMEALL\"], row[\"EFX_LEGDOMULTNAMEALL\"])\n",
    "    G.add_edge(row[\"EFX_LEGDOMULTNAMEALL\"], row[\"EFX_LEGSUBNAMEALL\"])\n",
    "\n",
    "# Generate hierarchical layout (Top to Bottom)\n",
    "pos = nx.nx_agraph.graphviz_layout(G, prog=\"dot\", args=\"-Grankdir=TB\")\n",
    "\n",
    "# Identify leaf nodes and sort them alphabetically\n",
    "leaf_nodes = [node for node in G.nodes() if G.out_degree(node) == 0]\n",
    "leaf_nodes = sorted(leaf_nodes)\n",
    "\n",
    "# Extract edge coordinates\n",
    "edge_x = []\n",
    "edge_y = []\n",
    "for edge in G.edges():\n",
    "    x0, y0 = pos[edge[0]]\n",
    "    x1, y1 = pos[edge[1]]\n",
    "    edge_x.extend([x0, x1, None])  # Straight lines\n",
    "    edge_y.extend([y0, y1, None])\n",
    "\n",
    "# Extract node coordinates and labels\n",
    "node_x = []\n",
    "node_y = []\n",
    "node_texts = []\n",
    "node_text_positions = []\n",
    "annotations = []\n",
    "\n",
    "for node in G.nodes():\n",
    "    node_x.append(pos[node][0])\n",
    "    node_y.append(pos[node][1])\n",
    "\n",
    "    if node in leaf_nodes:  # Ordered leaf nodes alphabetically\n",
    "        annotations.append(\n",
    "            dict(\n",
    "                x=pos[node][0],\n",
    "                y=pos[node][1] - 15,  # Shift text further below node\n",
    "                text=node,  # Full name in annotation\n",
    "                showarrow=False,\n",
    "                textangle=90,\n",
    "                font=dict(size=10),\n",
    "            )\n",
    "        )\n",
    "    else:\n",
    "        node_texts.append(node)  # Full name for non-leaf nodes\n",
    "        node_text_positions.append(\"top center\")\n",
    "\n",
    "# Create figure\n",
    "fig = go.Figure()\n",
    "\n",
    "# Add edges as straight lines\n",
    "fig.add_trace(\n",
    "    go.Scatter(\n",
    "        x=edge_x,\n",
    "        y=edge_y,\n",
    "        mode=\"lines\",\n",
    "        line=dict(width=1.5, color=\"black\"),\n",
    "        hoverinfo=\"none\",\n",
    "    )\n",
    ")\n",
    "\n",
    "# Add nodes\n",
    "fig.add_trace(\n",
    "    go.Scatter(\n",
    "        x=node_x,\n",
    "        y=node_y,\n",
    "        mode=\"markers+text\" if node_texts else \"markers\",\n",
    "        marker=dict(size=10, color=\"lightblue\"),\n",
    "        text=node_texts,  # Show full name for non-leaf nodes\n",
    "        textposition=node_text_positions,\n",
    "        hoverinfo=\"text\",  # Show node name on hover\n",
    "        hovertext=[node for node in G.nodes()],  # Full name on hover\n",
    "    )\n",
    ")\n",
    "\n",
    "# Add annotations for leaf nodes\n",
    "fig.update_layout(\n",
    "    title=\"Top-Down Hierarchy Graph\",\n",
    "    showlegend=False,\n",
    "    xaxis=dict(showgrid=False, zeroline=False, showticklabels=False),\n",
    "    yaxis=dict(showgrid=False, zeroline=False, showticklabels=False),\n",
    "    annotations=annotations,\n",
    "    height=1000,\n",
    ")\n",
    "\n",
    "fig.show()"
   ]
  },
  {
   "cell_type": "code",
   "execution_count": 42,
   "metadata": {},
   "outputs": [
    {
     "data": {
      "application/vnd.plotly.v1+json": {
       "config": {
        "plotlyServerURL": "https://plot.ly"
       },
       "data": [
        {
         "hoverinfo": "none",
         "line": {
          "color": "black",
          "width": 1.5
         },
         "mode": "lines",
         "type": "scatter",
         "x": [
          188.52,
          205.2243335110091,
          220.8186990036492,
          235.3853163311329,
          249.00640534667264,
          261.7641859034811,
          273.74087785477064,
          285.0187010537537,
          295.679875353643,
          305.80662060765104,
          315.48115666899014,
          324.7857033908729,
          333.802480626512,
          342.6137082291197,
          351.30160605190866,
          359.9483939480914,
          368.63629177088035,
          377.44751937348803,
          386.464296609127,
          395.76884333100986,
          405.443379392349,
          415.570124646357,
          426.2312989462462,
          437.5091221452294,
          449.485814096519,
          462.2435946533273,
          475.86468366886714,
          490.43130099635084,
          506.02566648899085,
          522.73,
          null,
          522.73,
          543.4253602033704,
          562.7455570134076,
          580.7924543851738,
          597.6679162737299,
          613.4738066341384,
          628.3119894214606,
          642.284328590758,
          655.492688097093,
          668.0389318955267,
          680.024923941121,
          691.5525281889376,
          702.7236085940384,
          713.6400291114846,
          724.4036536963386,
          735.1163463036614,
          745.8799708885153,
          756.7963914059617,
          767.9674718110623,
          779.495076058879,
          791.4810681044734,
          804.0273119029071,
          817.2356714092418,
          831.2080105785395,
          846.0461933658617,
          861.8520837262699,
          878.7275456148265,
          896.7744429865922,
          916.0946397966295,
          936.79,
          null,
          522.73,
          543.4253602033704,
          562.7455570134076,
          580.7924543851738,
          597.6679162737299,
          613.4738066341384,
          628.3119894214606,
          642.284328590758,
          655.492688097093,
          668.0389318955267,
          680.024923941121,
          691.5525281889376,
          702.7236085940384,
          713.6400291114846,
          724.4036536963386,
          735.1163463036614,
          745.8799708885153,
          756.7963914059617,
          767.9674718110623,
          779.495076058879,
          791.4810681044734,
          804.0273119029071,
          817.2356714092418,
          831.2080105785395,
          846.0461933658617,
          861.8520837262699,
          878.7275456148265,
          896.7744429865922,
          916.0946397966295,
          936.79,
          null,
          522.73,
          543.4253602033704,
          562.7455570134076,
          580.7924543851738,
          597.6679162737299,
          613.4738066341384,
          628.3119894214606,
          642.284328590758,
          655.492688097093,
          668.0389318955267,
          680.024923941121,
          691.5525281889376,
          702.7236085940384,
          713.6400291114846,
          724.4036536963386,
          735.1163463036614,
          745.8799708885153,
          756.7963914059617,
          767.9674718110623,
          779.495076058879,
          791.4810681044734,
          804.0273119029071,
          817.2356714092418,
          831.2080105785395,
          846.0461933658617,
          861.8520837262699,
          878.7275456148265,
          896.7744429865922,
          916.0946397966295,
          936.79,
          null,
          522.73,
          543.4253602033704,
          562.7455570134076,
          580.7924543851738,
          597.6679162737299,
          613.4738066341384,
          628.3119894214606,
          642.284328590758,
          655.492688097093,
          668.0389318955267,
          680.024923941121,
          691.5525281889376,
          702.7236085940384,
          713.6400291114846,
          724.4036536963386,
          735.1163463036614,
          745.8799708885153,
          756.7963914059617,
          767.9674718110623,
          779.495076058879,
          791.4810681044734,
          804.0273119029071,
          817.2356714092418,
          831.2080105785395,
          846.0461933658617,
          861.8520837262699,
          878.7275456148265,
          896.7744429865922,
          916.0946397966295,
          936.79,
          null,
          522.73,
          543.4253602033704,
          562.7455570134076,
          580.7924543851738,
          597.6679162737299,
          613.4738066341384,
          628.3119894214606,
          642.284328590758,
          655.492688097093,
          668.0389318955267,
          680.024923941121,
          691.5525281889376,
          702.7236085940384,
          713.6400291114846,
          724.4036536963386,
          735.1163463036614,
          745.8799708885153,
          756.7963914059617,
          767.9674718110623,
          779.495076058879,
          791.4810681044734,
          804.0273119029071,
          817.2356714092418,
          831.2080105785395,
          846.0461933658617,
          861.8520837262699,
          878.7275456148265,
          896.7744429865922,
          916.0946397966295,
          936.79,
          null,
          522.73,
          543.4253602033704,
          562.7455570134076,
          580.7924543851738,
          597.6679162737299,
          613.4738066341384,
          628.3119894214606,
          642.284328590758,
          655.492688097093,
          668.0389318955267,
          680.024923941121,
          691.5525281889376,
          702.7236085940384,
          713.6400291114846,
          724.4036536963386,
          735.1163463036614,
          745.8799708885153,
          756.7963914059617,
          767.9674718110623,
          779.495076058879,
          791.4810681044734,
          804.0273119029071,
          817.2356714092418,
          831.2080105785395,
          846.0461933658617,
          861.8520837262699,
          878.7275456148265,
          896.7744429865922,
          916.0946397966295,
          936.79,
          null,
          522.73,
          543.4253602033704,
          562.7455570134076,
          580.7924543851738,
          597.6679162737299,
          613.4738066341384,
          628.3119894214606,
          642.284328590758,
          655.492688097093,
          668.0389318955267,
          680.024923941121,
          691.5525281889376,
          702.7236085940384,
          713.6400291114846,
          724.4036536963386,
          735.1163463036614,
          745.8799708885153,
          756.7963914059617,
          767.9674718110623,
          779.495076058879,
          791.4810681044734,
          804.0273119029071,
          817.2356714092418,
          831.2080105785395,
          846.0461933658617,
          861.8520837262699,
          878.7275456148265,
          896.7744429865922,
          916.0946397966295,
          936.79,
          null,
          522.73,
          543.4253602033704,
          562.7455570134076,
          580.7924543851738,
          597.6679162737299,
          613.4738066341384,
          628.3119894214606,
          642.284328590758,
          655.492688097093,
          668.0389318955267,
          680.024923941121,
          691.5525281889376,
          702.7236085940384,
          713.6400291114846,
          724.4036536963386,
          735.1163463036614,
          745.8799708885153,
          756.7963914059617,
          767.9674718110623,
          779.495076058879,
          791.4810681044734,
          804.0273119029071,
          817.2356714092418,
          831.2080105785395,
          846.0461933658617,
          861.8520837262699,
          878.7275456148265,
          896.7744429865922,
          916.0946397966295,
          936.79,
          null,
          522.73,
          543.4253602033704,
          562.7455570134076,
          580.7924543851738,
          597.6679162737299,
          613.4738066341384,
          628.3119894214606,
          642.284328590758,
          655.492688097093,
          668.0389318955267,
          680.024923941121,
          691.5525281889376,
          702.7236085940384,
          713.6400291114846,
          724.4036536963386,
          735.1163463036614,
          745.8799708885153,
          756.7963914059617,
          767.9674718110623,
          779.495076058879,
          791.4810681044734,
          804.0273119029071,
          817.2356714092418,
          831.2080105785395,
          846.0461933658617,
          861.8520837262699,
          878.7275456148265,
          896.7744429865922,
          916.0946397966295,
          936.79,
          null,
          522.73,
          543.4253602033704,
          562.7455570134076,
          580.7924543851738,
          597.6679162737299,
          613.4738066341384,
          628.3119894214606,
          642.284328590758,
          655.492688097093,
          668.0389318955267,
          680.024923941121,
          691.5525281889376,
          702.7236085940384,
          713.6400291114846,
          724.4036536963386,
          735.1163463036614,
          745.8799708885153,
          756.7963914059617,
          767.9674718110623,
          779.495076058879,
          791.4810681044734,
          804.0273119029071,
          817.2356714092418,
          831.2080105785395,
          846.0461933658617,
          861.8520837262699,
          878.7275456148265,
          896.7744429865922,
          916.0946397966295,
          936.79,
          null,
          522.73,
          543.4253602033704,
          562.7455570134076,
          580.7924543851738,
          597.6679162737299,
          613.4738066341384,
          628.3119894214606,
          642.284328590758,
          655.492688097093,
          668.0389318955267,
          680.024923941121,
          691.5525281889376,
          702.7236085940384,
          713.6400291114846,
          724.4036536963386,
          735.1163463036614,
          745.8799708885153,
          756.7963914059617,
          767.9674718110623,
          779.495076058879,
          791.4810681044734,
          804.0273119029071,
          817.2356714092418,
          831.2080105785395,
          846.0461933658617,
          861.8520837262699,
          878.7275456148265,
          896.7744429865922,
          916.0946397966295,
          936.79,
          null,
          522.73,
          543.4253602033704,
          562.7455570134076,
          580.7924543851738,
          597.6679162737299,
          613.4738066341384,
          628.3119894214606,
          642.284328590758,
          655.492688097093,
          668.0389318955267,
          680.024923941121,
          691.5525281889376,
          702.7236085940384,
          713.6400291114846,
          724.4036536963386,
          735.1163463036614,
          745.8799708885153,
          756.7963914059617,
          767.9674718110623,
          779.495076058879,
          791.4810681044734,
          804.0273119029071,
          817.2356714092418,
          831.2080105785395,
          846.0461933658617,
          861.8520837262699,
          878.7275456148265,
          896.7744429865922,
          916.0946397966295,
          936.79,
          null,
          522.73,
          543.4253602033704,
          562.7455570134076,
          580.7924543851738,
          597.6679162737299,
          613.4738066341384,
          628.3119894214606,
          642.284328590758,
          655.492688097093,
          668.0389318955267,
          680.024923941121,
          691.5525281889376,
          702.7236085940384,
          713.6400291114846,
          724.4036536963386,
          735.1163463036614,
          745.8799708885153,
          756.7963914059617,
          767.9674718110623,
          779.495076058879,
          791.4810681044734,
          804.0273119029071,
          817.2356714092418,
          831.2080105785395,
          846.0461933658617,
          861.8520837262699,
          878.7275456148265,
          896.7744429865922,
          916.0946397966295,
          936.79,
          null,
          522.73,
          543.4253602033704,
          562.7455570134076,
          580.7924543851738,
          597.6679162737299,
          613.4738066341384,
          628.3119894214606,
          642.284328590758,
          655.492688097093,
          668.0389318955267,
          680.024923941121,
          691.5525281889376,
          702.7236085940384,
          713.6400291114846,
          724.4036536963386,
          735.1163463036614,
          745.8799708885153,
          756.7963914059617,
          767.9674718110623,
          779.495076058879,
          791.4810681044734,
          804.0273119029071,
          817.2356714092418,
          831.2080105785395,
          846.0461933658617,
          861.8520837262699,
          878.7275456148265,
          896.7744429865922,
          916.0946397966295,
          936.79,
          null,
          522.73,
          543.4253602033704,
          562.7455570134076,
          580.7924543851738,
          597.6679162737299,
          613.4738066341384,
          628.3119894214606,
          642.284328590758,
          655.492688097093,
          668.0389318955267,
          680.024923941121,
          691.5525281889376,
          702.7236085940384,
          713.6400291114846,
          724.4036536963386,
          735.1163463036614,
          745.8799708885153,
          756.7963914059617,
          767.9674718110623,
          779.495076058879,
          791.4810681044734,
          804.0273119029071,
          817.2356714092418,
          831.2080105785395,
          846.0461933658617,
          861.8520837262699,
          878.7275456148265,
          896.7744429865922,
          916.0946397966295,
          936.79,
          null,
          522.73,
          543.4253602033704,
          562.7455570134076,
          580.7924543851738,
          597.6679162737299,
          613.4738066341384,
          628.3119894214606,
          642.284328590758,
          655.492688097093,
          668.0389318955267,
          680.024923941121,
          691.5525281889376,
          702.7236085940384,
          713.6400291114846,
          724.4036536963386,
          735.1163463036614,
          745.8799708885153,
          756.7963914059617,
          767.9674718110623,
          779.495076058879,
          791.4810681044734,
          804.0273119029071,
          817.2356714092418,
          831.2080105785395,
          846.0461933658617,
          861.8520837262699,
          878.7275456148265,
          896.7744429865922,
          916.0946397966295,
          936.79,
          null,
          522.73,
          543.4253602033704,
          562.7455570134076,
          580.7924543851738,
          597.6679162737299,
          613.4738066341384,
          628.3119894214606,
          642.284328590758,
          655.492688097093,
          668.0389318955267,
          680.024923941121,
          691.5525281889376,
          702.7236085940384,
          713.6400291114846,
          724.4036536963386,
          735.1163463036614,
          745.8799708885153,
          756.7963914059617,
          767.9674718110623,
          779.495076058879,
          791.4810681044734,
          804.0273119029071,
          817.2356714092418,
          831.2080105785395,
          846.0461933658617,
          861.8520837262699,
          878.7275456148265,
          896.7744429865922,
          916.0946397966295,
          936.79,
          null,
          522.73,
          543.4253602033704,
          562.7455570134076,
          580.7924543851738,
          597.6679162737299,
          613.4738066341384,
          628.3119894214606,
          642.284328590758,
          655.492688097093,
          668.0389318955267,
          680.024923941121,
          691.5525281889376,
          702.7236085940384,
          713.6400291114846,
          724.4036536963386,
          735.1163463036614,
          745.8799708885153,
          756.7963914059617,
          767.9674718110623,
          779.495076058879,
          791.4810681044734,
          804.0273119029071,
          817.2356714092418,
          831.2080105785395,
          846.0461933658617,
          861.8520837262699,
          878.7275456148265,
          896.7744429865922,
          916.0946397966295,
          936.79,
          null,
          522.73,
          543.4253602033704,
          562.7455570134076,
          580.7924543851738,
          597.6679162737299,
          613.4738066341384,
          628.3119894214606,
          642.284328590758,
          655.492688097093,
          668.0389318955267,
          680.024923941121,
          691.5525281889376,
          702.7236085940384,
          713.6400291114846,
          724.4036536963386,
          735.1163463036614,
          745.8799708885153,
          756.7963914059617,
          767.9674718110623,
          779.495076058879,
          791.4810681044734,
          804.0273119029071,
          817.2356714092418,
          831.2080105785395,
          846.0461933658617,
          861.8520837262699,
          878.7275456148265,
          896.7744429865922,
          916.0946397966295,
          936.79,
          null,
          522.73,
          543.4253602033704,
          562.7455570134076,
          580.7924543851738,
          597.6679162737299,
          613.4738066341384,
          628.3119894214606,
          642.284328590758,
          655.492688097093,
          668.0389318955267,
          680.024923941121,
          691.5525281889376,
          702.7236085940384,
          713.6400291114846,
          724.4036536963386,
          735.1163463036614,
          745.8799708885153,
          756.7963914059617,
          767.9674718110623,
          779.495076058879,
          791.4810681044734,
          804.0273119029071,
          817.2356714092418,
          831.2080105785395,
          846.0461933658617,
          861.8520837262699,
          878.7275456148265,
          896.7744429865922,
          916.0946397966295,
          936.79,
          null,
          522.73,
          522.7300000000001,
          522.73,
          522.7300000000001,
          522.7299999999999,
          522.73,
          522.73,
          522.7299999999999,
          522.73,
          522.7300000000001,
          522.73,
          522.73,
          522.7300000000001,
          522.73,
          522.73,
          522.73,
          522.73,
          522.73,
          522.73,
          522.73,
          522.73,
          522.73,
          522.73,
          522.73,
          522.73,
          522.73,
          522.73,
          522.73,
          522.73,
          522.73,
          null,
          522.73,
          543.4253602033704,
          562.7455570134076,
          580.7924543851738,
          597.6679162737299,
          613.4738066341384,
          628.3119894214606,
          642.284328590758,
          655.492688097093,
          668.0389318955267,
          680.024923941121,
          691.5525281889376,
          702.7236085940384,
          713.6400291114846,
          724.4036536963386,
          735.1163463036614,
          745.8799708885153,
          756.7963914059617,
          767.9674718110623,
          779.495076058879,
          791.4810681044734,
          804.0273119029071,
          817.2356714092418,
          831.2080105785395,
          846.0461933658617,
          861.8520837262699,
          878.7275456148265,
          896.7744429865922,
          916.0946397966295,
          936.79,
          null,
          522.73,
          543.4253602033704,
          562.7455570134076,
          580.7924543851738,
          597.6679162737299,
          613.4738066341384,
          628.3119894214606,
          642.284328590758,
          655.492688097093,
          668.0389318955267,
          680.024923941121,
          691.5525281889376,
          702.7236085940384,
          713.6400291114846,
          724.4036536963386,
          735.1163463036614,
          745.8799708885153,
          756.7963914059617,
          767.9674718110623,
          779.495076058879,
          791.4810681044734,
          804.0273119029071,
          817.2356714092418,
          831.2080105785395,
          846.0461933658617,
          861.8520837262699,
          878.7275456148265,
          896.7744429865922,
          916.0946397966295,
          936.79,
          null,
          522.73,
          543.4253602033704,
          562.7455570134076,
          580.7924543851738,
          597.6679162737299,
          613.4738066341384,
          628.3119894214606,
          642.284328590758,
          655.492688097093,
          668.0389318955267,
          680.024923941121,
          691.5525281889376,
          702.7236085940384,
          713.6400291114846,
          724.4036536963386,
          735.1163463036614,
          745.8799708885153,
          756.7963914059617,
          767.9674718110623,
          779.495076058879,
          791.4810681044734,
          804.0273119029071,
          817.2356714092418,
          831.2080105785395,
          846.0461933658617,
          861.8520837262699,
          878.7275456148265,
          896.7744429865922,
          916.0946397966295,
          936.79,
          null
         ],
         "y": [
          612,
          609.2937956222808,
          606.8237215797161,
          604.5850189809221,
          602.5729289345134,
          600.7826925491063,
          599.2095509333159,
          597.8487451957576,
          596.6955164450474,
          595.7451057898003,
          594.9927543386318,
          594.4337032001577,
          594.0631934829935,
          593.8764662957541,
          593.8687627470556,
          594.0353239455134,
          594.3713909997427,
          594.8722050183594,
          595.5330071099787,
          596.3490383832162,
          597.3155399466874,
          598.4277529090077,
          599.6809183787927,
          601.0702774646579,
          602.5910712752188,
          604.2385409190907,
          606.0079275048895,
          607.8944721412302,
          609.8934159367285,
          612,
          null,
          612,
          612.7968891768162,
          617.6424684939036,
          626.2431205503111,
          638.3052279450861,
          653.5351732772776,
          671.639339145933,
          692.3241081501009,
          715.2958628888299,
          740.2609859611675,
          766.9258599661621,
          794.996867502862,
          824.1803911703154,
          854.1828135675703,
          884.710517293675,
          915.4698849476779,
          946.167299128627,
          976.5091424355704,
          1006.2017974675565,
          1034.9516468236334,
          1062.4650731028494,
          1088.4484589042527,
          1112.6081868268911,
          1134.650639469813,
          1154.282199432067,
          1171.2092493127009,
          1185.138171710763,
          1195.7753492253014,
          1202.8271644553643,
          1206,
          null,
          612,
          614.0251080948159,
          619.5961337236218,
          628.4507970140733,
          640.3268180938239,
          654.9619170905296,
          672.0938141318439,
          691.4602293454221,
          712.7988828589191,
          735.8474947999894,
          760.3437852962873,
          786.0254744754677,
          812.6302824651859,
          839.8959293930957,
          867.5601353868524,
          895.3606205741104,
          923.0351050825245,
          950.3213090397494,
          976.9569525734398,
          1002.6797558112505,
          1027.227438880836,
          1050.337721909851,
          1071.7483250259502,
          1091.1969683567888,
          1108.4213720300208,
          1123.159256173301,
          1135.1483409142845,
          1144.1263463806256,
          1149.830992699979,
          1152,
          null,
          612,
          615.8787862381903,
          622.8436181153871,
          632.6538225800467,
          645.0687265806233,
          659.8476570655733,
          676.7499409833512,
          695.5349052824124,
          715.9618769112126,
          737.7901828182067,
          760.7791499518502,
          784.6881052605984,
          809.2763756929065,
          834.3032881972298,
          859.5281697220236,
          884.7103472157432,
          909.6091476268441,
          933.9838979037814,
          957.5939249950103,
          980.1985558489864,
          1001.557117414165,
          1021.428936639001,
          1039.57334047195,
          1055.749655861467,
          1069.7172097560078,
          1081.2353291040274,
          1090.0633408539811,
          1095.9605719543242,
          1098.686349353512,
          1098,
          null,
          612,
          615.5762696099122,
          621.8317220088867,
          630.5585137292042,
          641.5488013031451,
          654.5947412629905,
          669.4884901410204,
          686.0222044695154,
          703.9880407807567,
          723.1781556070243,
          743.3847054805987,
          764.3998469337606,
          786.0157364987911,
          808.0245307079698,
          830.2183860935779,
          852.3894591878959,
          874.3299065232043,
          895.8318846317836,
          916.6875500459146,
          936.6890592978775,
          955.6285689199533,
          973.2982354444224,
          989.4902154035651,
          1003.9966653296625,
          1016.6097417549946,
          1027.1216012118423,
          1035.3244002324864,
          1041.0102953492067,
          1043.9714430942843,
          1044,
          null,
          612,
          613.284734890342,
          617.0705063600544,
          623.1726734230829,
          631.4065950933718,
          641.5876303848675,
          653.531138311514,
          667.0524778872569,
          681.9670081260417,
          698.0900880418131,
          715.2370766485163,
          733.2233329600967,
          751.8642159904994,
          770.9750847536693,
          790.3712982635517,
          809.868215534092,
          829.2811955792349,
          848.425597412926,
          867.11678004911,
          885.1701025017326,
          902.4009237847386,
          918.6246029120732,
          933.6564988976816,
          947.311970755509,
          959.4063774995004,
          969.7550781436012,
          978.1734317017564,
          984.4767971879111,
          988.4805336160106,
          990,
          null,
          612,
          615.4067294814828,
          620.7221575272808,
          627.7958389343088,
          636.4773284994808,
          646.6161810197116,
          658.0619512919147,
          670.6641941130048,
          684.2724642798969,
          698.7363165895043,
          713.9053058387417,
          729.6289868245235,
          745.7569143437643,
          762.1386431933776,
          778.6237281702784,
          795.0617240713807,
          811.3021856935989,
          827.1946678338475,
          842.5887252890406,
          857.3339128560925,
          871.2797853319177,
          884.2758975134304,
          896.1718041975448,
          906.8170601811755,
          916.0612202612367,
          923.7538392346424,
          929.7444718983074,
          933.8826730491459,
          936.0179974840718,
          936,
          null,
          612,
          613.5319712699911,
          616.7780545643832,
          621.6095261150497,
          627.8976621538628,
          635.5137389126962,
          644.329032623422,
          654.214819517913,
          665.0423758280429,
          676.6829777856836,
          689.0079016227081,
          701.8884235709896,
          715.1958198624009,
          728.8013667288143,
          742.5763404021031,
          756.3920171141401,
          770.1196730967981,
          783.63058458195,
          796.7960278014684,
          809.4872789872263,
          821.5756143710967,
          832.932310184952,
          843.4286426606652,
          852.9358880301095,
          861.3253225251574,
          868.4682223776815,
          874.2358638195551,
          878.4995230826509,
          881.1304763988414,
          882,
          null,
          612,
          610.841672374399,
          611.2803880957451,
          613.2070042801539,
          616.5123780437386,
          621.0873665026144,
          626.8228267728949,
          633.6096159706946,
          641.3385912121281,
          649.9006096133094,
          659.1865282903526,
          669.0872043593724,
          679.4934949364831,
          690.2962571377986,
          701.3863480794337,
          712.6546248775021,
          723.9919446481185,
          735.2891645073973,
          746.4371415714526,
          757.3267329563986,
          767.8487957783499,
          777.8941871534205,
          787.3537641977248,
          796.1183840273773,
          804.0789037584918,
          811.1261805071831,
          817.1510713895652,
          822.0444335217526,
          825.6971240198593,
          828,
          null,
          612,
          610.4605253280661,
          610.1118865050428,
          610.8783214649283,
          612.6840681417203,
          615.4533644694172,
          619.1104483820163,
          623.5795578135155,
          628.7849306979132,
          634.650804969207,
          641.1014185613946,
          648.0610094084739,
          655.4538154444431,
          663.2040746032999,
          671.2360248190422,
          679.4739040256678,
          687.8419501571748,
          696.264401147561,
          704.665494930824,
          712.9694694409621,
          721.1005626119731,
          728.9830123778548,
          736.541056672605,
          743.6989334302218,
          750.3808805847029,
          756.5111360700462,
          762.0139378202498,
          766.8135237693112,
          770.8341318512287,
          774,
          null,
          612,
          610.0055241474333,
          609.1224076569961,
          609.2725519787984,
          610.377858562949,
          612.3602288595582,
          615.1415643187344,
          618.6437663905873,
          622.7887365252267,
          627.4983761727616,
          632.6945867833014,
          638.2992698069556,
          644.2343266938339,
          650.4216588940449,
          656.7831678576987,
          663.2407550349043,
          669.7163218757713,
          676.1317698304092,
          682.4090003489271,
          688.4699148814345,
          694.2364148780409,
          699.6304017888557,
          704.573777063988,
          708.9884421535476,
          712.7962985076437,
          715.9192475763855,
          718.2791908098827,
          719.7980296582447,
          720.3976655715805,
          720,
          null,
          612,
          614.4478489825108,
          616.88645693762,
          619.3122015983965,
          621.7214606979086,
          624.1106119692248,
          626.4760331454136,
          628.8141019595429,
          631.1211961446821,
          633.393693433899,
          635.6279715602622,
          637.8204082568401,
          639.9673812567013,
          642.065268292914,
          644.110447098547,
          646.0992954066683,
          648.0281909503468,
          649.8935114626508,
          651.6916346766486,
          653.4189383254088,
          655.0718001419998,
          656.6465978594902,
          658.139709210948,
          659.5475119294423,
          660.866383748041,
          662.0927023998129,
          663.2228456178264,
          664.2531911351497,
          665.1801166848513,
          666,
          null,
          612,
          609.1165998059836,
          606.6383527228635,
          604.5431258668422,
          602.8087863541211,
          601.4132013009034,
          600.3342378233903,
          599.549763037784,
          599.0376440602872,
          598.7757480071017,
          598.7419419944292,
          598.9140931384724,
          599.2700685554332,
          599.7877353615135,
          600.4449606729158,
          601.2196116058418,
          602.0895552764939,
          603.0326588010741,
          604.0267892957846,
          605.0498138768276,
          606.0795996604048,
          607.0940137627188,
          608.0709232999714,
          608.9881953883647,
          609.8236971441011,
          610.5552956833823,
          611.1608581224108,
          611.6182515773885,
          611.9053431645175,
          612,
          null,
          612,
          610.9482637799139,
          609.6375344619562,
          608.0901578447365,
          606.3284797268634,
          604.3748459069473,
          602.2516021835966,
          599.9810943554205,
          597.585668221029,
          595.087669579031,
          592.5094442280355,
          589.8733379666522,
          587.2016965934904,
          584.5168659071591,
          581.8411917062676,
          579.1970197894254,
          576.6066959552418,
          574.0925660023258,
          571.6769757292869,
          569.3822709347344,
          567.2307974172775,
          565.2449009755255,
          563.4469274080876,
          561.8592225135733,
          560.5041320905917,
          559.4040019377521,
          558.5811778536639,
          558.0580056369363,
          557.8568310861785,
          558,
          null,
          612,
          610.6175523072233,
          608.7158219402764,
          606.3339221309067,
          603.5109661108606,
          600.286067111886,
          596.6983383657293,
          592.7868931041373,
          588.5908445588577,
          584.149305961637,
          579.5013905442222,
          574.6862115383606,
          569.742882175799,
          564.7105156882842,
          559.6282253075636,
          554.535124265384,
          549.4703257934925,
          544.472943123636,
          539.5820894875615,
          534.8368781170161,
          530.2764222437468,
          525.9398350995004,
          521.8662299160242,
          518.094719925065,
          514.6644183583699,
          511.6144384476857,
          508.9838934247597,
          506.8118965213387,
          505.1375609691698,
          504,
          null,
          612,
          609.6517548036629,
          606.6315423049778,
          602.9883274288073,
          598.7710751000136,
          594.0287502434594,
          588.8103177840067,
          583.1647426465178,
          577.1409897558552,
          570.7880240368812,
          564.154810414458,
          557.2903138134482,
          550.243499158714,
          543.0633313751175,
          535.7987753875215,
          528.4987961207879,
          521.2123584997794,
          513.988427449358,
          506.87596789438635,
          499.9239447597266,
          493.1813229702411,
          486.69706745079236,
          480.5201431262424,
          474.6995149214538,
          469.28414776128875,
          464.3230065706098,
          459.865056274279,
          455.9592617971589,
          452.65458806411175,
          450,
          null,
          612,
          609.3271484787837,
          605.575142605435,
          600.8259882258986,
          595.1616911861187,
          588.6642573320402,
          581.415692509607,
          573.4980025647636,
          564.993193343455,
          555.9832706916251,
          546.5502404552183,
          536.7761084801792,
          526.7428806124524,
          516.5325626979818,
          506.2271605827124,
          495.9086801125884,
          485.65912713355414,
          475.5605074915543,
          465.6948270325329,
          456.14409160243486,
          446.9903070472042,
          438.31547921278565,
          430.2016139451235,
          422.7307170901621,
          415.98479449384604,
          410.0458520021197,
          404.9958954609275,
          400.91693071621387,
          397.8909636139232,
          396,
          null,
          612,
          611.4538916564172,
          609.178813666462,
          605.2973163362079,
          599.9319499717275,
          593.2052648790944,
          585.2398113643814,
          576.1581397336611,
          566.0828002930077,
          555.1363433484935,
          543.4413192061913,
          531.120278172175,
          518.2957705525172,
          505.09034665329074,
          491.62655678056916,
          478.0269512404253,
          464.4140803389324,
          450.9104943821634,
          437.6387436761913,
          424.7213785270893,
          412.2809492409305,
          400.44000612378795,
          389.32109948173456,
          379.0467796208437,
          369.73959684718824,
          361.52210146684126,
          354.51684378587584,
          348.8463741103651,
          344.63324274638217,
          342,
          null,
          612,
          612.6725514267717,
          610.9435521318143,
          606.9858334237339,
          600.9722266111357,
          593.0755630026265,
          583.4686739068112,
          572.3243906322958,
          559.8155444876867,
          546.1149667815888,
          531.3954888226084,
          515.8299419193513,
          499.5911573804232,
          482.8519665144298,
          465.78520062997706,
          448.5636910356707,
          431.3602690401166,
          414.34776595192045,
          397.69901307968803,
          381.5868417320253,
          366.1840832175378,
          351.6635688448317,
          338.1981299225124,
          325.96059775918593,
          315.12380366345803,
          305.86057894393457,
          298.34375490922116,
          292.7461628679238,
          289.2406341286481,
          288,
          null,
          612,
          610.9713119615833,
          607.1884388546503,
          600.8621171572886,
          592.2030833475853,
          581.4220739036288,
          568.7298253035058,
          554.3370740253039,
          538.454556547111,
          521.293009347014,
          503.0631689031008,
          483.97577169345874,
          464.24155419617546,
          444.0712528893379,
          423.6756042510343,
          403.2653447593517,
          383.05121089237764,
          363.2439391281996,
          344.0542659449051,
          325.6929278205817,
          308.3706612333168,
          292.2982026611978,
          277.6862885823124,
          264.7456554747478,
          253.6870398165918,
          244.72117808593168,
          238.0588067608549,
          233.91066231944907,
          232.48748123980158,
          234,
          null,
          612,
          612.0224014666787,
          609.043025691109,
          603.2769990875822,
          594.9394480703887,
          584.2454990538203,
          571.4102784521672,
          556.6489126797203,
          540.1765281507714,
          522.2082512796106,
          502.95920848052896,
          482.6445261678177,
          461.47933075576765,
          439.6787486586696,
          417.4579062908147,
          395.03193006649377,
          372.615946399998,
          350.42508170561786,
          328.6744623976447,
          307.57921489036926,
          287.3544655980825,
          268.2153409350755,
          250.3769673156391,
          234.05447115406417,
          219.4629788646418,
          206.81761686166283,
          196.33351155941818,
          188.2257893721989,
          182.70957671429585,
          180,
          null,
          612,
          613.1842472653415,
          614.3904222517941,
          615.6066897580814,
          616.8212145829256,
          618.0221615250507,
          619.1976953831789,
          620.3359809560335,
          621.4251830423378,
          622.4534664408145,
          623.4089959501865,
          624.279936369177,
          625.0544524965092,
          625.7207091309056,
          626.2668710710896,
          626.6811031157841,
          626.9515700637123,
          627.0664367135969,
          627.013867864161,
          626.782028314128,
          626.3590828622202,
          625.7331963071613,
          624.8925334476737,
          623.8252590824809,
          622.5195380103058,
          620.9635350298713,
          619.1454149399005,
          617.0533425391163,
          614.6754826262418,
          612,
          null,
          612,
          608.5522370664456,
          602.2383554077405,
          593.2711709317897,
          581.8634995464978,
          568.2281571597698,
          552.5779596795103,
          535.1257230136243,
          516.0842630700168,
          495.66639575659246,
          474.0849369812559,
          451.5527026519123,
          428.2825086764662,
          404.4871709628225,
          380.37950541888625,
          356.1723279525621,
          332.07845447175487,
          308.31070088436945,
          285.08188309831047,
          262.60481702148303,
          241.0923185617919,
          220.7572036271418,
          201.81228812543765,
          184.47038796458423,
          168.94431905248643,
          155.44689729704902,
          144.19093860617681,
          135.38925888777473,
          129.25467404974748,
          126,
          null,
          612,
          608.3365814318323,
          601.3632914183829,
          591.3291849528816,
          578.4833170285581,
          563.0747426386422,
          545.3525167763632,
          525.5656944349507,
          503.9633306076351,
          480.7944802876454,
          456.30819846821123,
          430.7535401425626,
          404.37956030392905,
          377.43531394554003,
          350.16985606062553,
          322.83224164241494,
          295.6715256841382,
          268.93676317902464,
          242.87700912030414,
          217.74131850120636,
          193.7787463149608,
          171.23834755479731,
          150.3691772139455,
          131.4202902856349,
          114.64074176309535,
          100.27958663955638,
          88.58587990824769,
          79.80867656239897,
          74.19703159523985,
          72,
          null,
          612,
          607.2735086770645,
          599.0835995522156,
          587.6900470852082,
          573.3526257357958,
          556.3311099637333,
          536.8852742287746,
          515.2748929906735,
          491.7597407091849,
          466.5995918440625,
          440.05422085506046,
          412.38340220193334,
          383.8469103444351,
          354.7045197423199,
          325.216004855342,
          295.64114014325565,
          266.23970006581504,
          237.27145908277416,
          208.99619165388734,
          181.67367223890884,
          155.56367529759277,
          130.92597528969333,
          108.02034667496476,
          87.10656391316115,
          68.44440146403683,
          52.2936337873459,
          38.91403534284251,
          28.56538059028097,
          21.5074439894154,
          18,
          null
         ]
        },
        {
         "marker": {
          "color": "lightblue",
          "size": 10
         },
         "mode": "markers+text",
         "text": [
          "DELOITTE TOUCHE TOHMATSU LIMITED",
          "DELOITTE US DENVER",
          "CIS",
          "DOBLIN INC",
          "HEAT INDUSTRIES",
          "ATADATA",
          "SFL SCIENTIFIC",
          "BERSIN BY DELOITTE",
          "BARRASSO CONSULTING L.L.C.",
          "INNOWAKE INTERNATIONAL INC",
          "DELOITTE FINANCIAL ADVISORY SERVICES LLP",
          "DELOITTE TAX LLP",
          "DELOITTE LLP",
          "DELOITTE SERVICES LP",
          "DELOITTE DEVELOPMENT LLC",
          "MONITOR DELOITTE",
          "THE MONITOR GROUP INC",
          "SENTEK GLOBAL",
          "DELOITTE CONSULTING L.P.",
          "DELOITTE TRANSACTIONS AND BUSINESS ANALYTICS LLP",
          "DELOITTE AND TOUCHE OVERSEAS SERVICES LLC",
          "DELOITTE TOUCHE TOHMATSU SERVICES, INC.",
          "DELOITTE AND TOUCHE LLP",
          "NATIONAL TELECONSULTANTS",
          "DELOITTE CONSULTING L.P. OF WASHINGTON"
         ],
         "textposition": [
          "top center",
          "top center",
          "middle right",
          "middle right",
          "middle right",
          "middle right",
          "middle right",
          "middle right",
          "middle right",
          "middle right",
          "middle right",
          "middle right",
          "middle right",
          "middle right",
          "middle right",
          "middle right",
          "middle right",
          "middle right",
          "middle right",
          "middle right",
          "middle right",
          "middle right",
          "middle right",
          "middle right",
          "middle right"
         ],
         "type": "scatter",
         "x": [
          188.52,
          522.73,
          936.79,
          936.79,
          936.79,
          936.79,
          936.79,
          936.79,
          936.79,
          936.79,
          936.79,
          936.79,
          936.79,
          936.79,
          936.79,
          936.79,
          936.79,
          936.79,
          936.79,
          936.79,
          936.79,
          936.79,
          936.79,
          936.79,
          936.79
         ],
         "y": [
          612,
          612,
          1206,
          1152,
          1098,
          1044,
          990,
          936,
          882,
          828,
          774,
          720,
          666,
          612,
          558,
          504,
          450,
          396,
          342,
          288,
          234,
          180,
          126,
          72,
          18
         ]
        }
       ],
       "layout": {
        "showlegend": false,
        "template": {
         "data": {
          "bar": [
           {
            "error_x": {
             "color": "#2a3f5f"
            },
            "error_y": {
             "color": "#2a3f5f"
            },
            "marker": {
             "line": {
              "color": "#E5ECF6",
              "width": 0.5
             },
             "pattern": {
              "fillmode": "overlay",
              "size": 10,
              "solidity": 0.2
             }
            },
            "type": "bar"
           }
          ],
          "barpolar": [
           {
            "marker": {
             "line": {
              "color": "#E5ECF6",
              "width": 0.5
             },
             "pattern": {
              "fillmode": "overlay",
              "size": 10,
              "solidity": 0.2
             }
            },
            "type": "barpolar"
           }
          ],
          "carpet": [
           {
            "aaxis": {
             "endlinecolor": "#2a3f5f",
             "gridcolor": "white",
             "linecolor": "white",
             "minorgridcolor": "white",
             "startlinecolor": "#2a3f5f"
            },
            "baxis": {
             "endlinecolor": "#2a3f5f",
             "gridcolor": "white",
             "linecolor": "white",
             "minorgridcolor": "white",
             "startlinecolor": "#2a3f5f"
            },
            "type": "carpet"
           }
          ],
          "choropleth": [
           {
            "colorbar": {
             "outlinewidth": 0,
             "ticks": ""
            },
            "type": "choropleth"
           }
          ],
          "contour": [
           {
            "colorbar": {
             "outlinewidth": 0,
             "ticks": ""
            },
            "colorscale": [
             [
              0,
              "#0d0887"
             ],
             [
              0.1111111111111111,
              "#46039f"
             ],
             [
              0.2222222222222222,
              "#7201a8"
             ],
             [
              0.3333333333333333,
              "#9c179e"
             ],
             [
              0.4444444444444444,
              "#bd3786"
             ],
             [
              0.5555555555555556,
              "#d8576b"
             ],
             [
              0.6666666666666666,
              "#ed7953"
             ],
             [
              0.7777777777777778,
              "#fb9f3a"
             ],
             [
              0.8888888888888888,
              "#fdca26"
             ],
             [
              1,
              "#f0f921"
             ]
            ],
            "type": "contour"
           }
          ],
          "contourcarpet": [
           {
            "colorbar": {
             "outlinewidth": 0,
             "ticks": ""
            },
            "type": "contourcarpet"
           }
          ],
          "heatmap": [
           {
            "colorbar": {
             "outlinewidth": 0,
             "ticks": ""
            },
            "colorscale": [
             [
              0,
              "#0d0887"
             ],
             [
              0.1111111111111111,
              "#46039f"
             ],
             [
              0.2222222222222222,
              "#7201a8"
             ],
             [
              0.3333333333333333,
              "#9c179e"
             ],
             [
              0.4444444444444444,
              "#bd3786"
             ],
             [
              0.5555555555555556,
              "#d8576b"
             ],
             [
              0.6666666666666666,
              "#ed7953"
             ],
             [
              0.7777777777777778,
              "#fb9f3a"
             ],
             [
              0.8888888888888888,
              "#fdca26"
             ],
             [
              1,
              "#f0f921"
             ]
            ],
            "type": "heatmap"
           }
          ],
          "histogram": [
           {
            "marker": {
             "pattern": {
              "fillmode": "overlay",
              "size": 10,
              "solidity": 0.2
             }
            },
            "type": "histogram"
           }
          ],
          "histogram2d": [
           {
            "colorbar": {
             "outlinewidth": 0,
             "ticks": ""
            },
            "colorscale": [
             [
              0,
              "#0d0887"
             ],
             [
              0.1111111111111111,
              "#46039f"
             ],
             [
              0.2222222222222222,
              "#7201a8"
             ],
             [
              0.3333333333333333,
              "#9c179e"
             ],
             [
              0.4444444444444444,
              "#bd3786"
             ],
             [
              0.5555555555555556,
              "#d8576b"
             ],
             [
              0.6666666666666666,
              "#ed7953"
             ],
             [
              0.7777777777777778,
              "#fb9f3a"
             ],
             [
              0.8888888888888888,
              "#fdca26"
             ],
             [
              1,
              "#f0f921"
             ]
            ],
            "type": "histogram2d"
           }
          ],
          "histogram2dcontour": [
           {
            "colorbar": {
             "outlinewidth": 0,
             "ticks": ""
            },
            "colorscale": [
             [
              0,
              "#0d0887"
             ],
             [
              0.1111111111111111,
              "#46039f"
             ],
             [
              0.2222222222222222,
              "#7201a8"
             ],
             [
              0.3333333333333333,
              "#9c179e"
             ],
             [
              0.4444444444444444,
              "#bd3786"
             ],
             [
              0.5555555555555556,
              "#d8576b"
             ],
             [
              0.6666666666666666,
              "#ed7953"
             ],
             [
              0.7777777777777778,
              "#fb9f3a"
             ],
             [
              0.8888888888888888,
              "#fdca26"
             ],
             [
              1,
              "#f0f921"
             ]
            ],
            "type": "histogram2dcontour"
           }
          ],
          "mesh3d": [
           {
            "colorbar": {
             "outlinewidth": 0,
             "ticks": ""
            },
            "type": "mesh3d"
           }
          ],
          "parcoords": [
           {
            "line": {
             "colorbar": {
              "outlinewidth": 0,
              "ticks": ""
             }
            },
            "type": "parcoords"
           }
          ],
          "pie": [
           {
            "automargin": true,
            "type": "pie"
           }
          ],
          "scatter": [
           {
            "fillpattern": {
             "fillmode": "overlay",
             "size": 10,
             "solidity": 0.2
            },
            "type": "scatter"
           }
          ],
          "scatter3d": [
           {
            "line": {
             "colorbar": {
              "outlinewidth": 0,
              "ticks": ""
             }
            },
            "marker": {
             "colorbar": {
              "outlinewidth": 0,
              "ticks": ""
             }
            },
            "type": "scatter3d"
           }
          ],
          "scattercarpet": [
           {
            "marker": {
             "colorbar": {
              "outlinewidth": 0,
              "ticks": ""
             }
            },
            "type": "scattercarpet"
           }
          ],
          "scattergeo": [
           {
            "marker": {
             "colorbar": {
              "outlinewidth": 0,
              "ticks": ""
             }
            },
            "type": "scattergeo"
           }
          ],
          "scattergl": [
           {
            "marker": {
             "colorbar": {
              "outlinewidth": 0,
              "ticks": ""
             }
            },
            "type": "scattergl"
           }
          ],
          "scattermap": [
           {
            "marker": {
             "colorbar": {
              "outlinewidth": 0,
              "ticks": ""
             }
            },
            "type": "scattermap"
           }
          ],
          "scattermapbox": [
           {
            "marker": {
             "colorbar": {
              "outlinewidth": 0,
              "ticks": ""
             }
            },
            "type": "scattermapbox"
           }
          ],
          "scatterpolar": [
           {
            "marker": {
             "colorbar": {
              "outlinewidth": 0,
              "ticks": ""
             }
            },
            "type": "scatterpolar"
           }
          ],
          "scatterpolargl": [
           {
            "marker": {
             "colorbar": {
              "outlinewidth": 0,
              "ticks": ""
             }
            },
            "type": "scatterpolargl"
           }
          ],
          "scatterternary": [
           {
            "marker": {
             "colorbar": {
              "outlinewidth": 0,
              "ticks": ""
             }
            },
            "type": "scatterternary"
           }
          ],
          "surface": [
           {
            "colorbar": {
             "outlinewidth": 0,
             "ticks": ""
            },
            "colorscale": [
             [
              0,
              "#0d0887"
             ],
             [
              0.1111111111111111,
              "#46039f"
             ],
             [
              0.2222222222222222,
              "#7201a8"
             ],
             [
              0.3333333333333333,
              "#9c179e"
             ],
             [
              0.4444444444444444,
              "#bd3786"
             ],
             [
              0.5555555555555556,
              "#d8576b"
             ],
             [
              0.6666666666666666,
              "#ed7953"
             ],
             [
              0.7777777777777778,
              "#fb9f3a"
             ],
             [
              0.8888888888888888,
              "#fdca26"
             ],
             [
              1,
              "#f0f921"
             ]
            ],
            "type": "surface"
           }
          ],
          "table": [
           {
            "cells": {
             "fill": {
              "color": "#EBF0F8"
             },
             "line": {
              "color": "white"
             }
            },
            "header": {
             "fill": {
              "color": "#C8D4E3"
             },
             "line": {
              "color": "white"
             }
            },
            "type": "table"
           }
          ]
         },
         "layout": {
          "annotationdefaults": {
           "arrowcolor": "#2a3f5f",
           "arrowhead": 0,
           "arrowwidth": 1
          },
          "autotypenumbers": "strict",
          "coloraxis": {
           "colorbar": {
            "outlinewidth": 0,
            "ticks": ""
           }
          },
          "colorscale": {
           "diverging": [
            [
             0,
             "#8e0152"
            ],
            [
             0.1,
             "#c51b7d"
            ],
            [
             0.2,
             "#de77ae"
            ],
            [
             0.3,
             "#f1b6da"
            ],
            [
             0.4,
             "#fde0ef"
            ],
            [
             0.5,
             "#f7f7f7"
            ],
            [
             0.6,
             "#e6f5d0"
            ],
            [
             0.7,
             "#b8e186"
            ],
            [
             0.8,
             "#7fbc41"
            ],
            [
             0.9,
             "#4d9221"
            ],
            [
             1,
             "#276419"
            ]
           ],
           "sequential": [
            [
             0,
             "#0d0887"
            ],
            [
             0.1111111111111111,
             "#46039f"
            ],
            [
             0.2222222222222222,
             "#7201a8"
            ],
            [
             0.3333333333333333,
             "#9c179e"
            ],
            [
             0.4444444444444444,
             "#bd3786"
            ],
            [
             0.5555555555555556,
             "#d8576b"
            ],
            [
             0.6666666666666666,
             "#ed7953"
            ],
            [
             0.7777777777777778,
             "#fb9f3a"
            ],
            [
             0.8888888888888888,
             "#fdca26"
            ],
            [
             1,
             "#f0f921"
            ]
           ],
           "sequentialminus": [
            [
             0,
             "#0d0887"
            ],
            [
             0.1111111111111111,
             "#46039f"
            ],
            [
             0.2222222222222222,
             "#7201a8"
            ],
            [
             0.3333333333333333,
             "#9c179e"
            ],
            [
             0.4444444444444444,
             "#bd3786"
            ],
            [
             0.5555555555555556,
             "#d8576b"
            ],
            [
             0.6666666666666666,
             "#ed7953"
            ],
            [
             0.7777777777777778,
             "#fb9f3a"
            ],
            [
             0.8888888888888888,
             "#fdca26"
            ],
            [
             1,
             "#f0f921"
            ]
           ]
          },
          "colorway": [
           "#636efa",
           "#EF553B",
           "#00cc96",
           "#ab63fa",
           "#FFA15A",
           "#19d3f3",
           "#FF6692",
           "#B6E880",
           "#FF97FF",
           "#FECB52"
          ],
          "font": {
           "color": "#2a3f5f"
          },
          "geo": {
           "bgcolor": "white",
           "lakecolor": "white",
           "landcolor": "#E5ECF6",
           "showlakes": true,
           "showland": true,
           "subunitcolor": "white"
          },
          "hoverlabel": {
           "align": "left"
          },
          "hovermode": "closest",
          "mapbox": {
           "style": "light"
          },
          "paper_bgcolor": "white",
          "plot_bgcolor": "#E5ECF6",
          "polar": {
           "angularaxis": {
            "gridcolor": "white",
            "linecolor": "white",
            "ticks": ""
           },
           "bgcolor": "#E5ECF6",
           "radialaxis": {
            "gridcolor": "white",
            "linecolor": "white",
            "ticks": ""
           }
          },
          "scene": {
           "xaxis": {
            "backgroundcolor": "#E5ECF6",
            "gridcolor": "white",
            "gridwidth": 2,
            "linecolor": "white",
            "showbackground": true,
            "ticks": "",
            "zerolinecolor": "white"
           },
           "yaxis": {
            "backgroundcolor": "#E5ECF6",
            "gridcolor": "white",
            "gridwidth": 2,
            "linecolor": "white",
            "showbackground": true,
            "ticks": "",
            "zerolinecolor": "white"
           },
           "zaxis": {
            "backgroundcolor": "#E5ECF6",
            "gridcolor": "white",
            "gridwidth": 2,
            "linecolor": "white",
            "showbackground": true,
            "ticks": "",
            "zerolinecolor": "white"
           }
          },
          "shapedefaults": {
           "line": {
            "color": "#2a3f5f"
           }
          },
          "ternary": {
           "aaxis": {
            "gridcolor": "white",
            "linecolor": "white",
            "ticks": ""
           },
           "baxis": {
            "gridcolor": "white",
            "linecolor": "white",
            "ticks": ""
           },
           "bgcolor": "#E5ECF6",
           "caxis": {
            "gridcolor": "white",
            "linecolor": "white",
            "ticks": ""
           }
          },
          "title": {
           "x": 0.05
          },
          "xaxis": {
           "automargin": true,
           "gridcolor": "white",
           "linecolor": "white",
           "ticks": "",
           "title": {
            "standoff": 15
           },
           "zerolinecolor": "white",
           "zerolinewidth": 2
          },
          "yaxis": {
           "automargin": true,
           "gridcolor": "white",
           "linecolor": "white",
           "ticks": "",
           "title": {
            "standoff": 15
           },
           "zerolinecolor": "white",
           "zerolinewidth": 2
          }
         }
        },
        "title": {
         "text": "Left-to-Right Hierarchy Graph with Cubic Bézier Curves"
        },
        "xaxis": {
         "showgrid": false,
         "showticklabels": false,
         "zeroline": false
        },
        "yaxis": {
         "showgrid": false,
         "showticklabels": false,
         "zeroline": false
        }
       }
      }
     },
     "metadata": {},
     "output_type": "display_data"
    }
   ],
   "source": [
    "import plotly.graph_objects as go\n",
    "import networkx as nx\n",
    "import pandas as pd\n",
    "import numpy as np\n",
    "\n",
    "# # Sample DataFrame\n",
    "# data = {\n",
    "#     \"EFX_LEGSUBNAMEALL\": [\n",
    "#         \"CIS\",\n",
    "#         \"DOBLIN INC\",\n",
    "#         \"HEAT INDUSTRIES\",\n",
    "#         \"CIS\",\n",
    "#         \"HEAT INDUSTRIES\",\n",
    "#     ],\n",
    "#     \"EFX_LEGDOMULTNAMEALL\": [\"DELOITTE US DENVER\"] * 5,\n",
    "#     \"EFX_AFFLULTNAMEALL\": [\"DELOITTE TOUCHE TOHMATSU LIMITED\"] * 5,\n",
    "# }\n",
    "# df = pd.DataFrame(data)\n",
    "\n",
    "# Create a directed graph\n",
    "G = nx.DiGraph()\n",
    "\n",
    "# Add edges to the graph\n",
    "for _, row in df.iterrows():\n",
    "    G.add_edge(row[\"EFX_AFFLULTNAMEALL\"], row[\"EFX_LEGDOMULTNAMEALL\"])\n",
    "    G.add_edge(row[\"EFX_LEGDOMULTNAMEALL\"], row[\"EFX_LEGSUBNAMEALL\"])\n",
    "\n",
    "# Generate hierarchical layout (Left to Right)\n",
    "pos = nx.nx_agraph.graphviz_layout(G, prog=\"dot\", args=\"-Grankdir=LR\")\n",
    "\n",
    "\n",
    "# Function to generate cubic Bezier curve\n",
    "def cubic_bezier_curve(x0, y0, x1, y1, num_points=30):\n",
    "    \"\"\"Generates a smooth cubic Bézier curve with two control points\"\"\"\n",
    "    cx1, cy1 = (x0 + x1) / 2, y0 + np.random.uniform(-30, 30)  # First control point\n",
    "    cx2, cy2 = (x0 + x1) / 2, y1 + np.random.uniform(-30, 30)  # Second control point\n",
    "\n",
    "    # Generate t values\n",
    "    t = np.linspace(0, 1, num_points)\n",
    "\n",
    "    # Cubic Bézier formula\n",
    "    bx = (\n",
    "        (1 - t) ** 3 * x0\n",
    "        + 3 * (1 - t) ** 2 * t * cx1\n",
    "        + 3 * (1 - t) * t**2 * cx2\n",
    "        + t**3 * x1\n",
    "    )\n",
    "    by = (\n",
    "        (1 - t) ** 3 * y0\n",
    "        + 3 * (1 - t) ** 2 * t * cy1\n",
    "        + 3 * (1 - t) * t**2 * cy2\n",
    "        + t**3 * y1\n",
    "    )\n",
    "\n",
    "    return bx, by\n",
    "\n",
    "\n",
    "# Extract smooth edge coordinates\n",
    "edge_x = []\n",
    "edge_y = []\n",
    "for edge in G.edges():\n",
    "    x0, y0 = pos[edge[0]]\n",
    "    x1, y1 = pos[edge[1]]\n",
    "\n",
    "    smooth_x, smooth_y = cubic_bezier_curve(x0, y0, x1, y1)\n",
    "\n",
    "    edge_x.extend(smooth_x.tolist() + [None])  # Add None for Plotly line breaks\n",
    "    edge_y.extend(smooth_y.tolist() + [None])\n",
    "\n",
    "# Extract node coordinates\n",
    "node_x = []\n",
    "node_y = []\n",
    "node_texts = []\n",
    "node_text_positions = []\n",
    "\n",
    "# Determine node types for text positioning\n",
    "for node in G.nodes():\n",
    "    node_x.append(pos[node][0])\n",
    "    node_y.append(pos[node][1])\n",
    "    node_texts.append(node)\n",
    "\n",
    "    if G.in_degree(node) == 0:  # Root node (No incoming edges)\n",
    "        node_text_positions.append(\"top center\")\n",
    "    elif G.out_degree(node) > 0:  # Middle nodes\n",
    "        node_text_positions.append(\"top center\")\n",
    "    else:  # Leaf nodes (No outgoing edges)\n",
    "        node_text_positions.append(\"middle right\")\n",
    "\n",
    "# Create figure\n",
    "fig = go.Figure()\n",
    "\n",
    "# Add wavy edges with cubic Bézier curves\n",
    "fig.add_trace(\n",
    "    go.Scatter(\n",
    "        x=edge_x,\n",
    "        y=edge_y,\n",
    "        mode=\"lines\",\n",
    "        line=dict(width=1.5, color=\"black\"),\n",
    "        hoverinfo=\"none\",\n",
    "    )\n",
    ")\n",
    "\n",
    "# Add nodes with different text positions\n",
    "fig.add_trace(\n",
    "    go.Scatter(\n",
    "        x=node_x,\n",
    "        y=node_y,\n",
    "        mode=\"markers+text\",\n",
    "        marker=dict(size=10, color=\"lightblue\"),\n",
    "        text=node_texts,\n",
    "        textposition=node_text_positions,\n",
    "    )\n",
    ")\n",
    "\n",
    "# Layout settings\n",
    "fig.update_layout(\n",
    "    title=\"Left-to-Right Hierarchy Graph with Cubic Bézier Curves\",\n",
    "    showlegend=False,\n",
    "    xaxis=dict(showgrid=False, zeroline=False, showticklabels=False),\n",
    "    yaxis=dict(showgrid=False, zeroline=False, showticklabels=False),\n",
    ")\n",
    "\n",
    "fig.show()"
   ]
  },
  {
   "cell_type": "code",
   "execution_count": null,
   "metadata": {},
   "outputs": [],
   "source": [
    "import math\n",
    "\n",
    "\n",
    "def determine_text_position(angle):\n",
    "    if 0 <= angle < math.radians(75):\n",
    "        return \"top right\"\n",
    "    elif math.radians(75) <= angle < math.radians(105):\n",
    "        return \"top center\"\n",
    "    elif math.radians(105) <= angle < math.radians(135):\n",
    "        return \"top left\"\n",
    "    elif math.radians(135) <= angle < math.radians(215):\n",
    "        return \"middle left\"\n",
    "    elif math.radians(215) <= angle < math.radians(255):\n",
    "        return \"bottom left\"\n",
    "    elif math.radians(255) <= angle < math.radians(285):\n",
    "        return \"bottom center\"\n",
    "    elif math.radians(285) <= angle < math.radians(315):\n",
    "        return \"bottom right\"\n",
    "    else:  # 315 - 360 degrees\n",
    "        return \"middle right\""
   ]
  },
  {
   "cell_type": "code",
   "execution_count": null,
   "metadata": {},
   "outputs": [
    {
     "data": {
      "application/vnd.plotly.v1+json": {
       "config": {
        "plotlyServerURL": "https://plot.ly"
       },
       "data": [
        {
         "hoverinfo": "none",
         "line": {
          "color": "#888",
          "width": 1
         },
         "mode": "lines",
         "type": "scatter",
         "x": [
          -4.5,
          2,
          null,
          2,
          5.8116116233520225,
          null,
          2,
          5.702705627246385,
          null,
          2,
          5.255758600655944,
          null,
          2,
          4.575231554722808,
          null,
          2,
          3.710054046430032,
          null,
          2,
          2.724197968073233,
          null,
          2,
          1.757917686077276,
          null,
          2,
          0.6938715087449259,
          null,
          2,
          -0.15911203191776635,
          null,
          2,
          -0.9338235074878919,
          null,
          2,
          -1.5284692543560123,
          null,
          2,
          -1.790861603191946,
          null,
          2,
          -1.7216750529220908,
          null,
          2,
          -1.5136781781434843,
          null,
          2,
          -0.9344288905467296,
          null,
          2,
          -0.16341541147036776,
          null,
          2,
          0.6854376151116259,
          null,
          2,
          1.7404433445400227,
          null,
          2,
          2.7544730930289183,
          null,
          2,
          3.741630621377653,
          null,
          2,
          4.560486531590191,
          null,
          2,
          5.29669818330265,
          null,
          2,
          5.697430279165932,
          null
         ],
         "y": [
          0.5,
          -1,
          null,
          -1,
          -0.9819443859601803,
          null,
          -1,
          0.03884232489200061,
          null,
          -1,
          0.9920332861065981,
          null,
          -1,
          1.8097834916253461,
          null,
          -1,
          2.4223659237083526,
          null,
          -1,
          2.7332778354043166,
          null,
          -1,
          2.805437144829729,
          null,
          -1,
          2.6195793400271357,
          null,
          -1,
          2.0654520388941218,
          null,
          -1,
          1.386562103789108,
          null,
          -1,
          0.4869152826867325,
          null,
          -1,
          -0.5170117168367959,
          null,
          -1,
          -1.5167216361137266,
          null,
          -1,
          -2.5303691375070736,
          null,
          -1,
          -3.3530660530301577,
          null,
          -1,
          -4.085516715355854,
          null,
          -1,
          -4.5911015323180875,
          null,
          -1,
          -4.745659872426455,
          null,
          -1,
          -4.693366133698037,
          null,
          -1,
          -4.370294304781851,
          null,
          -1,
          -3.7276753302097037,
          null,
          -1,
          -2.9730876157927226,
          null,
          -1,
          -2.030904864724895,
          null
         ]
        },
        {
         "hoverinfo": "text",
         "marker": {
          "color": [
           "black",
           "orange",
           "blue",
           "blue",
           "blue",
           "blue",
           "blue",
           "blue",
           "blue",
           "blue",
           "blue",
           "blue",
           "blue",
           "blue",
           "blue",
           "blue",
           "blue",
           "blue",
           "blue",
           "blue",
           "blue",
           "blue",
           "blue",
           "blue",
           "blue"
          ],
          "line": {
           "width": 2
          },
          "size": [
           20,
           15,
           10,
           10,
           10,
           10,
           10,
           10,
           10,
           10,
           10,
           10,
           10,
           10,
           10,
           10,
           10,
           10,
           10,
           10,
           10,
           10,
           10,
           10,
           10
          ]
         },
         "mode": "markers+text",
         "text": [
          "DELOITTE TOUCHE TOHMATSU LIMITED",
          "DELOITTE US DENVER",
          "CIS",
          "DOBLIN INC",
          "HEAT INDUSTRIES",
          "ATADATA",
          "SFL SCIENTIFIC",
          "BERSIN BY DELOITTE",
          "BARRASSO CONSULTING L.L.C.",
          "INNOWAKE INTERNATIONAL INC",
          "DELOITTE FINANCIAL ADVISORY SERVICES LLP",
          "DELOITTE TAX LLP",
          "DELOITTE LLP",
          "DELOITTE SERVICES LP",
          "DELOITTE DEVELOPMENT LLC",
          "MONITOR DELOITTE",
          "THE MONITOR GROUP INC",
          "SENTEK GLOBAL",
          "DELOITTE CONSULTING L.P.",
          "DELOITTE TRANSACTIONS AND BUSINESS ANALYTICS LLP",
          "DELOITTE AND TOUCHE OVERSEAS SERVICES LLC",
          "DELOITTE TOUCHE TOHMATSU SERVICES, INC.",
          "DELOITTE AND TOUCHE LLP",
          "NATIONAL TELECONSULTANTS",
          "DELOITTE CONSULTING L.P. OF WASHINGTON"
         ],
         "textposition": [
          "top right",
          "top right",
          "top right",
          "bottom left",
          "bottom left",
          "top right",
          "middle right",
          "top right",
          "top right",
          "bottom center",
          "middle left",
          "middle left",
          "middle left",
          "middle left",
          "top left",
          "bottom center",
          "middle right",
          "bottom right",
          "top center",
          "bottom left",
          "top center",
          "middle left",
          "top right",
          "bottom right",
          "top left"
         ],
         "type": "scatter",
         "x": [
          -4.5,
          2,
          4.575231554722808,
          -0.16341541147036776,
          0.6854376151116259,
          5.8116116233520225,
          5.29669818330265,
          5.255758600655944,
          5.702705627246385,
          1.7404433445400227,
          -0.9338235074878919,
          -1.7216750529220908,
          -1.5284692543560123,
          -1.790861603191946,
          -0.15911203191776635,
          2.7544730930289183,
          5.697430279165932,
          4.560486531590191,
          1.757917686077276,
          -0.9344288905467296,
          2.724197968073233,
          -1.5136781781434843,
          3.710054046430032,
          3.741630621377653,
          0.6938715087449259
         ],
         "y": [
          0.5,
          -1,
          1.8097834916253461,
          -4.085516715355854,
          -4.5911015323180875,
          -0.9819443859601803,
          -2.9730876157927226,
          0.9920332861065981,
          0.03884232489200061,
          -4.745659872426455,
          1.386562103789108,
          -1.5167216361137266,
          0.4869152826867325,
          -0.5170117168367959,
          2.0654520388941218,
          -4.693366133698037,
          -2.030904864724895,
          -3.7276753302097037,
          2.805437144829729,
          -3.3530660530301577,
          2.7332778354043166,
          -2.5303691375070736,
          2.4223659237083526,
          -4.370294304781851,
          2.6195793400271357
         ]
        }
       ],
       "layout": {
        "font": {
         "size": 12
        },
        "height": 800,
        "hovermode": "closest",
        "margin": {
         "b": 20,
         "l": 5,
         "r": 5,
         "t": 40
        },
        "plot_bgcolor": "white",
        "showlegend": false,
        "template": {
         "data": {
          "bar": [
           {
            "error_x": {
             "color": "#2a3f5f"
            },
            "error_y": {
             "color": "#2a3f5f"
            },
            "marker": {
             "line": {
              "color": "#E5ECF6",
              "width": 0.5
             },
             "pattern": {
              "fillmode": "overlay",
              "size": 10,
              "solidity": 0.2
             }
            },
            "type": "bar"
           }
          ],
          "barpolar": [
           {
            "marker": {
             "line": {
              "color": "#E5ECF6",
              "width": 0.5
             },
             "pattern": {
              "fillmode": "overlay",
              "size": 10,
              "solidity": 0.2
             }
            },
            "type": "barpolar"
           }
          ],
          "carpet": [
           {
            "aaxis": {
             "endlinecolor": "#2a3f5f",
             "gridcolor": "white",
             "linecolor": "white",
             "minorgridcolor": "white",
             "startlinecolor": "#2a3f5f"
            },
            "baxis": {
             "endlinecolor": "#2a3f5f",
             "gridcolor": "white",
             "linecolor": "white",
             "minorgridcolor": "white",
             "startlinecolor": "#2a3f5f"
            },
            "type": "carpet"
           }
          ],
          "choropleth": [
           {
            "colorbar": {
             "outlinewidth": 0,
             "ticks": ""
            },
            "type": "choropleth"
           }
          ],
          "contour": [
           {
            "colorbar": {
             "outlinewidth": 0,
             "ticks": ""
            },
            "colorscale": [
             [
              0,
              "#0d0887"
             ],
             [
              0.1111111111111111,
              "#46039f"
             ],
             [
              0.2222222222222222,
              "#7201a8"
             ],
             [
              0.3333333333333333,
              "#9c179e"
             ],
             [
              0.4444444444444444,
              "#bd3786"
             ],
             [
              0.5555555555555556,
              "#d8576b"
             ],
             [
              0.6666666666666666,
              "#ed7953"
             ],
             [
              0.7777777777777778,
              "#fb9f3a"
             ],
             [
              0.8888888888888888,
              "#fdca26"
             ],
             [
              1,
              "#f0f921"
             ]
            ],
            "type": "contour"
           }
          ],
          "contourcarpet": [
           {
            "colorbar": {
             "outlinewidth": 0,
             "ticks": ""
            },
            "type": "contourcarpet"
           }
          ],
          "heatmap": [
           {
            "colorbar": {
             "outlinewidth": 0,
             "ticks": ""
            },
            "colorscale": [
             [
              0,
              "#0d0887"
             ],
             [
              0.1111111111111111,
              "#46039f"
             ],
             [
              0.2222222222222222,
              "#7201a8"
             ],
             [
              0.3333333333333333,
              "#9c179e"
             ],
             [
              0.4444444444444444,
              "#bd3786"
             ],
             [
              0.5555555555555556,
              "#d8576b"
             ],
             [
              0.6666666666666666,
              "#ed7953"
             ],
             [
              0.7777777777777778,
              "#fb9f3a"
             ],
             [
              0.8888888888888888,
              "#fdca26"
             ],
             [
              1,
              "#f0f921"
             ]
            ],
            "type": "heatmap"
           }
          ],
          "histogram": [
           {
            "marker": {
             "pattern": {
              "fillmode": "overlay",
              "size": 10,
              "solidity": 0.2
             }
            },
            "type": "histogram"
           }
          ],
          "histogram2d": [
           {
            "colorbar": {
             "outlinewidth": 0,
             "ticks": ""
            },
            "colorscale": [
             [
              0,
              "#0d0887"
             ],
             [
              0.1111111111111111,
              "#46039f"
             ],
             [
              0.2222222222222222,
              "#7201a8"
             ],
             [
              0.3333333333333333,
              "#9c179e"
             ],
             [
              0.4444444444444444,
              "#bd3786"
             ],
             [
              0.5555555555555556,
              "#d8576b"
             ],
             [
              0.6666666666666666,
              "#ed7953"
             ],
             [
              0.7777777777777778,
              "#fb9f3a"
             ],
             [
              0.8888888888888888,
              "#fdca26"
             ],
             [
              1,
              "#f0f921"
             ]
            ],
            "type": "histogram2d"
           }
          ],
          "histogram2dcontour": [
           {
            "colorbar": {
             "outlinewidth": 0,
             "ticks": ""
            },
            "colorscale": [
             [
              0,
              "#0d0887"
             ],
             [
              0.1111111111111111,
              "#46039f"
             ],
             [
              0.2222222222222222,
              "#7201a8"
             ],
             [
              0.3333333333333333,
              "#9c179e"
             ],
             [
              0.4444444444444444,
              "#bd3786"
             ],
             [
              0.5555555555555556,
              "#d8576b"
             ],
             [
              0.6666666666666666,
              "#ed7953"
             ],
             [
              0.7777777777777778,
              "#fb9f3a"
             ],
             [
              0.8888888888888888,
              "#fdca26"
             ],
             [
              1,
              "#f0f921"
             ]
            ],
            "type": "histogram2dcontour"
           }
          ],
          "mesh3d": [
           {
            "colorbar": {
             "outlinewidth": 0,
             "ticks": ""
            },
            "type": "mesh3d"
           }
          ],
          "parcoords": [
           {
            "line": {
             "colorbar": {
              "outlinewidth": 0,
              "ticks": ""
             }
            },
            "type": "parcoords"
           }
          ],
          "pie": [
           {
            "automargin": true,
            "type": "pie"
           }
          ],
          "scatter": [
           {
            "fillpattern": {
             "fillmode": "overlay",
             "size": 10,
             "solidity": 0.2
            },
            "type": "scatter"
           }
          ],
          "scatter3d": [
           {
            "line": {
             "colorbar": {
              "outlinewidth": 0,
              "ticks": ""
             }
            },
            "marker": {
             "colorbar": {
              "outlinewidth": 0,
              "ticks": ""
             }
            },
            "type": "scatter3d"
           }
          ],
          "scattercarpet": [
           {
            "marker": {
             "colorbar": {
              "outlinewidth": 0,
              "ticks": ""
             }
            },
            "type": "scattercarpet"
           }
          ],
          "scattergeo": [
           {
            "marker": {
             "colorbar": {
              "outlinewidth": 0,
              "ticks": ""
             }
            },
            "type": "scattergeo"
           }
          ],
          "scattergl": [
           {
            "marker": {
             "colorbar": {
              "outlinewidth": 0,
              "ticks": ""
             }
            },
            "type": "scattergl"
           }
          ],
          "scattermap": [
           {
            "marker": {
             "colorbar": {
              "outlinewidth": 0,
              "ticks": ""
             }
            },
            "type": "scattermap"
           }
          ],
          "scattermapbox": [
           {
            "marker": {
             "colorbar": {
              "outlinewidth": 0,
              "ticks": ""
             }
            },
            "type": "scattermapbox"
           }
          ],
          "scatterpolar": [
           {
            "marker": {
             "colorbar": {
              "outlinewidth": 0,
              "ticks": ""
             }
            },
            "type": "scatterpolar"
           }
          ],
          "scatterpolargl": [
           {
            "marker": {
             "colorbar": {
              "outlinewidth": 0,
              "ticks": ""
             }
            },
            "type": "scatterpolargl"
           }
          ],
          "scatterternary": [
           {
            "marker": {
             "colorbar": {
              "outlinewidth": 0,
              "ticks": ""
             }
            },
            "type": "scatterternary"
           }
          ],
          "surface": [
           {
            "colorbar": {
             "outlinewidth": 0,
             "ticks": ""
            },
            "colorscale": [
             [
              0,
              "#0d0887"
             ],
             [
              0.1111111111111111,
              "#46039f"
             ],
             [
              0.2222222222222222,
              "#7201a8"
             ],
             [
              0.3333333333333333,
              "#9c179e"
             ],
             [
              0.4444444444444444,
              "#bd3786"
             ],
             [
              0.5555555555555556,
              "#d8576b"
             ],
             [
              0.6666666666666666,
              "#ed7953"
             ],
             [
              0.7777777777777778,
              "#fb9f3a"
             ],
             [
              0.8888888888888888,
              "#fdca26"
             ],
             [
              1,
              "#f0f921"
             ]
            ],
            "type": "surface"
           }
          ],
          "table": [
           {
            "cells": {
             "fill": {
              "color": "#EBF0F8"
             },
             "line": {
              "color": "white"
             }
            },
            "header": {
             "fill": {
              "color": "#C8D4E3"
             },
             "line": {
              "color": "white"
             }
            },
            "type": "table"
           }
          ]
         },
         "layout": {
          "annotationdefaults": {
           "arrowcolor": "#2a3f5f",
           "arrowhead": 0,
           "arrowwidth": 1
          },
          "autotypenumbers": "strict",
          "coloraxis": {
           "colorbar": {
            "outlinewidth": 0,
            "ticks": ""
           }
          },
          "colorscale": {
           "diverging": [
            [
             0,
             "#8e0152"
            ],
            [
             0.1,
             "#c51b7d"
            ],
            [
             0.2,
             "#de77ae"
            ],
            [
             0.3,
             "#f1b6da"
            ],
            [
             0.4,
             "#fde0ef"
            ],
            [
             0.5,
             "#f7f7f7"
            ],
            [
             0.6,
             "#e6f5d0"
            ],
            [
             0.7,
             "#b8e186"
            ],
            [
             0.8,
             "#7fbc41"
            ],
            [
             0.9,
             "#4d9221"
            ],
            [
             1,
             "#276419"
            ]
           ],
           "sequential": [
            [
             0,
             "#0d0887"
            ],
            [
             0.1111111111111111,
             "#46039f"
            ],
            [
             0.2222222222222222,
             "#7201a8"
            ],
            [
             0.3333333333333333,
             "#9c179e"
            ],
            [
             0.4444444444444444,
             "#bd3786"
            ],
            [
             0.5555555555555556,
             "#d8576b"
            ],
            [
             0.6666666666666666,
             "#ed7953"
            ],
            [
             0.7777777777777778,
             "#fb9f3a"
            ],
            [
             0.8888888888888888,
             "#fdca26"
            ],
            [
             1,
             "#f0f921"
            ]
           ],
           "sequentialminus": [
            [
             0,
             "#0d0887"
            ],
            [
             0.1111111111111111,
             "#46039f"
            ],
            [
             0.2222222222222222,
             "#7201a8"
            ],
            [
             0.3333333333333333,
             "#9c179e"
            ],
            [
             0.4444444444444444,
             "#bd3786"
            ],
            [
             0.5555555555555556,
             "#d8576b"
            ],
            [
             0.6666666666666666,
             "#ed7953"
            ],
            [
             0.7777777777777778,
             "#fb9f3a"
            ],
            [
             0.8888888888888888,
             "#fdca26"
            ],
            [
             1,
             "#f0f921"
            ]
           ]
          },
          "colorway": [
           "#636efa",
           "#EF553B",
           "#00cc96",
           "#ab63fa",
           "#FFA15A",
           "#19d3f3",
           "#FF6692",
           "#B6E880",
           "#FF97FF",
           "#FECB52"
          ],
          "font": {
           "color": "#2a3f5f"
          },
          "geo": {
           "bgcolor": "white",
           "lakecolor": "white",
           "landcolor": "#E5ECF6",
           "showlakes": true,
           "showland": true,
           "subunitcolor": "white"
          },
          "hoverlabel": {
           "align": "left"
          },
          "hovermode": "closest",
          "mapbox": {
           "style": "light"
          },
          "paper_bgcolor": "white",
          "plot_bgcolor": "#E5ECF6",
          "polar": {
           "angularaxis": {
            "gridcolor": "white",
            "linecolor": "white",
            "ticks": ""
           },
           "bgcolor": "#E5ECF6",
           "radialaxis": {
            "gridcolor": "white",
            "linecolor": "white",
            "ticks": ""
           }
          },
          "scene": {
           "xaxis": {
            "backgroundcolor": "#E5ECF6",
            "gridcolor": "white",
            "gridwidth": 2,
            "linecolor": "white",
            "showbackground": true,
            "ticks": "",
            "zerolinecolor": "white"
           },
           "yaxis": {
            "backgroundcolor": "#E5ECF6",
            "gridcolor": "white",
            "gridwidth": 2,
            "linecolor": "white",
            "showbackground": true,
            "ticks": "",
            "zerolinecolor": "white"
           },
           "zaxis": {
            "backgroundcolor": "#E5ECF6",
            "gridcolor": "white",
            "gridwidth": 2,
            "linecolor": "white",
            "showbackground": true,
            "ticks": "",
            "zerolinecolor": "white"
           }
          },
          "shapedefaults": {
           "line": {
            "color": "#2a3f5f"
           }
          },
          "ternary": {
           "aaxis": {
            "gridcolor": "white",
            "linecolor": "white",
            "ticks": ""
           },
           "baxis": {
            "gridcolor": "white",
            "linecolor": "white",
            "ticks": ""
           },
           "bgcolor": "#E5ECF6",
           "caxis": {
            "gridcolor": "white",
            "linecolor": "white",
            "ticks": ""
           }
          },
          "title": {
           "x": 0.05
          },
          "xaxis": {
           "automargin": true,
           "gridcolor": "white",
           "linecolor": "white",
           "ticks": "",
           "title": {
            "standoff": 15
           },
           "zerolinecolor": "white",
           "zerolinewidth": 2
          },
          "yaxis": {
           "automargin": true,
           "gridcolor": "white",
           "linecolor": "white",
           "ticks": "",
           "title": {
            "standoff": 15
           },
           "zerolinecolor": "white",
           "zerolinewidth": 2
          }
         }
        },
        "title": {
         "text": "Organizational Hierarchy (Circular Leaf Nodes with Clock Positioning)"
        },
        "width": 1200,
        "xaxis": {
         "showgrid": false,
         "showticklabels": false,
         "zeroline": false
        },
        "yaxis": {
         "showgrid": false,
         "showticklabels": false,
         "zeroline": false
        }
       }
      }
     },
     "metadata": {},
     "output_type": "display_data"
    }
   ],
   "source": [
    "import pandas as pd\n",
    "import plotly.graph_objects as go\n",
    "import networkx as nx\n",
    "import math\n",
    "import numpy as np\n",
    "\n",
    "# # Create a dataframe from the given data\n",
    "# # If using your full dataframe, replace this with your actual dataframe\n",
    "# data = {\n",
    "#     'EFX_LEGSUBNAMEALL': ['CIS', 'DOBLIN INC', 'HEAT INDUSTRIES', 'CIS', 'HEAT INDUSTRIES'],\n",
    "#     'EFX_LEGDOMULTNAMEALL': ['DELOITTE US DENVER', 'DELOITTE US DENVER', 'DELOITTE US DENVER', 'DELOITTE US DENVER', 'DELOITTE US DENVER'],\n",
    "#     'EFX_AFFLULTNAMEALL': ['DELOITTE TOUCHE TOHMATSU LIMITED', 'DELOITTE TOUCHE TOHMATSU LIMITED', 'DELOITTE TOUCHE TOHMATSU LIMITED', 'DELOITTE TOUCHE TOHMATSU LIMITED', 'DELOITTE TOUCHE TOHMATSU LIMITED']\n",
    "# }\n",
    "# df = pd.DataFrame(data)\n",
    "\n",
    "# For the full dataframe, use your variable name instead\n",
    "df = pd.read_csv(r\"EFX_dataset25.csv\")\n",
    "df = df[[\"EFX_LEGSUBNAMEALL\", \"EFX_LEGDOMULTNAMEALL\", \"EFX_AFFLULTNAMEALL\"]]\n",
    "df = df.drop_duplicates()\n",
    "df = df[df[\"EFX_LEGDOMULTNAMEALL\"] != df[\"EFX_LEGSUBNAMEALL\"]]\n",
    "\n",
    "# Get unique values for each level\n",
    "affil_names = df[\"EFX_AFFLULTNAMEALL\"].unique()\n",
    "legdom_names = df[\"EFX_LEGDOMULTNAMEALL\"].unique()\n",
    "legsub_names = df[\"EFX_LEGSUBNAMEALL\"].unique()\n",
    "\n",
    "# Create a graph\n",
    "G = nx.DiGraph()\n",
    "\n",
    "# Add the nodes with level attributes\n",
    "for affil in affil_names:\n",
    "    G.add_node(affil, level=0)\n",
    "for legdom in legdom_names:\n",
    "    G.add_node(legdom, level=1)\n",
    "for legsub in legsub_names:\n",
    "    G.add_node(legsub, level=2)\n",
    "\n",
    "# Add edges from affiliation to legal domain\n",
    "for affil in affil_names:\n",
    "    for legdom in legdom_names:\n",
    "        if (\n",
    "            df[\n",
    "                (df[\"EFX_AFFLULTNAMEALL\"] == affil)\n",
    "                & (df[\"EFX_LEGDOMULTNAMEALL\"] == legdom)\n",
    "            ].shape[0]\n",
    "            > 0\n",
    "        ):\n",
    "            G.add_edge(affil, legdom)\n",
    "\n",
    "# Add edges from legal domain to legal sub\n",
    "legdom_to_legsub = {}\n",
    "for legdom in legdom_names:\n",
    "    legdom_to_legsub[legdom] = []\n",
    "    for legsub in sorted(legsub_names):  # Sorting legal sub names alphabetically\n",
    "        if (\n",
    "            df[\n",
    "                (df[\"EFX_LEGDOMULTNAMEALL\"] == legdom)\n",
    "                & (df[\"EFX_LEGSUBNAMEALL\"] == legsub)\n",
    "            ].shape[0]\n",
    "            > 0\n",
    "        ):\n",
    "            G.add_edge(legdom, legsub)\n",
    "            legdom_to_legsub[legdom].append(legsub)\n",
    "\n",
    "# Get all nodes from the graph\n",
    "all_nodes = list(G.nodes())\n",
    "\n",
    "# Sort leaf nodes (nodes with no outgoing edges) alphabetically\n",
    "leaf_nodes = sorted([node for node in all_nodes if G.out_degree(node) == 0])\n",
    "\n",
    "\n",
    "# Custom positioning\n",
    "pos = {}\n",
    "node_textposition = {}  # Store text positions for each node\n",
    "\n",
    "# Root node (level 0) on the left\n",
    "root_nodes = [n for n in all_nodes if G.nodes[n][\"level\"] == 0]\n",
    "for i, node in enumerate(root_nodes):\n",
    "    pos[node] = (-4.5, 0.5)\n",
    "    node_textposition[node] = \"top right\"  # Right of the root node\n",
    "\n",
    "# Middle nodes (level 1) slightly to the right\n",
    "middle_nodes = [n for n in all_nodes if G.nodes[n][\"level\"] == 1]\n",
    "middle_y_spacing = 2.0  # Increased spacing between middle nodes\n",
    "for i, node in enumerate(middle_nodes):\n",
    "    y_pos = i * middle_y_spacing - (len(middle_nodes) * middle_y_spacing / 2)\n",
    "    pos[node] = (2, y_pos)\n",
    "    node_textposition[node] = \"top right\"  # Default for middle nodes\n",
    "\n",
    "# Position leaf nodes in circles around their respective middle nodes\n",
    "for middle_node in middle_nodes:\n",
    "    # Get leaf nodes connected to this middle node\n",
    "    leaves = legdom_to_legsub.get(middle_node, [])\n",
    "    if not leaves:\n",
    "        continue\n",
    "\n",
    "    # Increase radius based on number of leaves\n",
    "    num_leaves = len(leaves)\n",
    "    base_radius = 1.5  # Base radius\n",
    "    # Dynamically adjust radius based on number of leaves\n",
    "    circle_radius = base_radius + (0.1 * num_leaves)\n",
    "\n",
    "    # Calculate positions in a circle\n",
    "    angle_step = 2 * math.pi / num_leaves\n",
    "    middle_x, middle_y = pos[middle_node]\n",
    "\n",
    "    for i, leaf in enumerate(leaves):\n",
    "        # Distribute leaves evenly in a circle\n",
    "        angle = i * angle_step\n",
    "\n",
    "        # Add small random variation to prevent exact overlaps\n",
    "        jitter = 0.05\n",
    "        rand_offset_x = np.random.uniform(-jitter, jitter)\n",
    "        rand_offset_y = np.random.uniform(-jitter, jitter)\n",
    "\n",
    "        x = middle_x + circle_radius * math.cos(angle) + rand_offset_x\n",
    "        y = middle_y + circle_radius * math.sin(angle) + rand_offset_y\n",
    "        pos[leaf] = (x, y)\n",
    "\n",
    "        node_textposition[leaf] = determine_text_position(angle)\n",
    "\n",
    "\n",
    "# Make sure all nodes have positions (fix for KeyError)\n",
    "for node in all_nodes:\n",
    "    if node not in pos:\n",
    "        # Assign a default position for any missed nodes\n",
    "        pos[node] = (4, 0)  # Off to the right side\n",
    "        node_textposition[node] = \"top right\"  # Default position\n",
    "\n",
    "# Extract node positions for visualization\n",
    "node_x = []\n",
    "node_y = []\n",
    "node_text = []\n",
    "node_color = []\n",
    "node_size = []\n",
    "node_positions = []  # List to store text positions\n",
    "\n",
    "for node in all_nodes:\n",
    "    x, y = pos[node]\n",
    "    node_x.append(x)\n",
    "    node_y.append(y)\n",
    "    node_text.append(node)\n",
    "    node_positions.append(node_textposition[node])\n",
    "\n",
    "    # Assign colors and sizes based on level\n",
    "    level = G.nodes[node][\"level\"]\n",
    "    if level == 0:\n",
    "        node_color.append(\"black\")\n",
    "        node_size.append(20)  # Larger size for root\n",
    "    elif level == 1:\n",
    "        node_color.append(\"orange\")\n",
    "        node_size.append(15)  # Medium size for middle\n",
    "    else:\n",
    "        node_color.append(\"blue\")\n",
    "        node_size.append(10)  # Smaller size for leaves\n",
    "\n",
    "# Create edges\n",
    "edge_x = []\n",
    "edge_y = []\n",
    "for edge in G.edges():\n",
    "    x0, y0 = pos[edge[0]]\n",
    "    x1, y1 = pos[edge[1]]\n",
    "    edge_x.extend([x0, x1, None])\n",
    "    edge_y.extend([y0, y1, None])\n",
    "\n",
    "# Create edge trace\n",
    "edge_trace = go.Scatter(\n",
    "    x=edge_x, y=edge_y, line=dict(width=1, color=\"#888\"), hoverinfo=\"none\", mode=\"lines\"\n",
    ")\n",
    "\n",
    "# Create node trace with appropriate text positioning\n",
    "node_trace = go.Scatter(\n",
    "    x=node_x,\n",
    "    y=node_y,\n",
    "    mode=\"markers+text\",\n",
    "    hoverinfo=\"text\",\n",
    "    text=node_text,\n",
    "    textposition=node_positions,  # Use the clock-based positioning\n",
    "    marker=dict(color=node_color, size=node_size, line=dict(width=2)),\n",
    ")\n",
    "\n",
    "# Create the figure\n",
    "fig = go.Figure(\n",
    "    data=[edge_trace, node_trace],\n",
    "    layout=go.Layout(\n",
    "        showlegend=False,\n",
    "        hovermode=\"closest\",\n",
    "        margin=dict(b=20, l=5, r=5, t=40),\n",
    "        xaxis=dict(showgrid=False, zeroline=False, showticklabels=False),\n",
    "        yaxis=dict(showgrid=False, zeroline=False, showticklabels=False),\n",
    "        plot_bgcolor=\"white\",\n",
    "    ),\n",
    ")\n",
    "\n",
    "fig.update_layout(\n",
    "    title=\"Organizational Hierarchy (Circular Leaf Nodes with Clock Positioning)\",\n",
    "    font=dict(size=12),\n",
    "    height=800,\n",
    "    width=1200,\n",
    ")\n",
    "\n",
    "# Show the plot\n",
    "fig.show()"
   ]
  },
  {
   "cell_type": "code",
   "execution_count": null,
   "metadata": {},
   "outputs": [
    {
     "name": "stderr",
     "output_type": "stream",
     "text": [
      "2025-04-02 13:01:50.171 WARNING streamlit.runtime.scriptrunner_utils.script_run_context: Thread 'MainThread': missing ScriptRunContext! This warning can be ignored when running in bare mode.\n",
      "2025-04-02 13:01:50.171 WARNING streamlit.runtime.scriptrunner_utils.script_run_context: Thread 'MainThread': missing ScriptRunContext! This warning can be ignored when running in bare mode.\n",
      "2025-04-02 13:01:50.217 \n",
      "  \u001b[33m\u001b[1mWarning:\u001b[0m to view this Streamlit app on a browser, run it with the following\n",
      "  command:\n",
      "\n",
      "    streamlit run /Users/mayurgd/miniconda3/envs/agentic_ai/lib/python3.12/site-packages/ipykernel_launcher.py [ARGUMENTS]\n",
      "2025-04-02 13:01:50.217 Thread 'MainThread': missing ScriptRunContext! This warning can be ignored when running in bare mode.\n",
      "2025-04-02 13:01:50.218 Thread 'MainThread': missing ScriptRunContext! This warning can be ignored when running in bare mode.\n",
      "2025-04-02 13:01:50.219 Thread 'MainThread': missing ScriptRunContext! This warning can be ignored when running in bare mode.\n",
      "2025-04-02 13:01:50.220 Thread 'MainThread': missing ScriptRunContext! This warning can be ignored when running in bare mode.\n",
      "2025-04-02 13:01:50.220 Thread 'MainThread': missing ScriptRunContext! This warning can be ignored when running in bare mode.\n"
     ]
    },
    {
     "data": {
      "text/plain": [
       "DeltaGenerator()"
      ]
     },
     "execution_count": 114,
     "metadata": {},
     "output_type": "execute_result"
    }
   ],
   "source": [
    "import streamlit as st\n",
    "import pandas as pd\n",
    "import plotly.graph_objects as go\n",
    "import networkx as nx\n",
    "import math\n",
    "import numpy as np\n",
    "\n",
    "\n",
    "# Streamlit UI\n",
    "st.set_page_config(layout=\"wide\")\n",
    "st.title(\"Organizational Hierarchy Visualization\")\n",
    "st.plotly_chart(fig, use_container_width=True)"
   ]
  },
  {
   "cell_type": "code",
   "execution_count": null,
   "metadata": {},
   "outputs": [],
   "source": []
  }
 ],
 "metadata": {
  "kernelspec": {
   "display_name": "agentic_ai",
   "language": "python",
   "name": "python3"
  },
  "language_info": {
   "codemirror_mode": {
    "name": "ipython",
    "version": 3
   },
   "file_extension": ".py",
   "mimetype": "text/x-python",
   "name": "python",
   "nbconvert_exporter": "python",
   "pygments_lexer": "ipython3",
   "version": "3.12.9"
  }
 },
 "nbformat": 4,
 "nbformat_minor": 2
}
