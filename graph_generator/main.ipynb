{
 "cells": [
  {
   "cell_type": "code",
   "execution_count": 24,
   "metadata": {},
   "outputs": [],
   "source": [
    "import pandas as pd\n",
    "\n",
    "df = pd.read_csv(r\"EFX_dataset25.csv\")\n",
    "df = df[[\"EFX_LEGSUBNAMEALL\", \"EFX_LEGDOMULTNAMEALL\", \"EFX_AFFLULTNAMEALL\"]]"
   ]
  },
  {
   "cell_type": "code",
   "execution_count": 12,
   "metadata": {},
   "outputs": [],
   "source": [
    "# 'Root' = 'EFX_LEGDOMULTNAMEALL'\n",
    "# 'Child' = 'EFX_LEGDOMULTNAMEALL' 'EFX_LEGSUBNAMEALL'\n",
    "# 'EFX_LEGSUBNAMEALL' --> 'EFX_LEGDOMULTNAMEALL' --> 'EFX_AFFLULTNAMEALL'"
   ]
  },
  {
   "cell_type": "code",
   "execution_count": 13,
   "metadata": {},
   "outputs": [
    {
     "data": {
      "application/vnd.plotly.v1+json": {
       "config": {
        "plotlyServerURL": "https://plot.ly"
       },
       "data": [
        {
         "hoverinfo": "none",
         "line": {
          "color": "black",
          "width": 1
         },
         "mode": "lines",
         "type": "scatter",
         "x": [
          2540,
          2540,
          null,
          2540,
          27,
          null,
          2540,
          136,
          null,
          2540,
          308,
          null,
          2540,
          470,
          null,
          2540,
          620,
          null,
          2540,
          822,
          null,
          2540,
          1094,
          null,
          2540,
          1416,
          null,
          2540,
          1811,
          null,
          2540,
          2146,
          null,
          2540,
          2333,
          null,
          2540,
          2540,
          null,
          2540,
          2819,
          null,
          2540,
          3085,
          null,
          2540,
          3331,
          null,
          2540,
          3562,
          null,
          2540,
          3800,
          null,
          2540,
          4221,
          null,
          2540,
          4740,
          null,
          2540,
          5208,
          null,
          2540,
          2540,
          null,
          2540,
          5579,
          null,
          2540,
          5881,
          null,
          2540,
          6259,
          null
         ],
         "y": [
          162,
          90,
          null,
          90,
          18,
          null,
          90,
          18,
          null,
          90,
          18,
          null,
          90,
          18,
          null,
          90,
          18,
          null,
          90,
          18,
          null,
          90,
          18,
          null,
          90,
          18,
          null,
          90,
          18,
          null,
          90,
          18,
          null,
          90,
          18,
          null,
          90,
          18,
          null,
          90,
          18,
          null,
          90,
          18,
          null,
          90,
          18,
          null,
          90,
          18,
          null,
          90,
          18,
          null,
          90,
          18,
          null,
          90,
          18,
          null,
          90,
          18,
          null,
          90,
          90,
          null,
          90,
          18,
          null,
          90,
          18,
          null,
          90,
          18,
          null
         ]
        },
        {
         "marker": {
          "color": "lightblue",
          "size": 10
         },
         "mode": "markers+text",
         "text": [
          "DELOITTE TOUCHE TOHMATSU LIMITED",
          "DELOITTE US DENVER",
          "CIS",
          "DOBLIN INC",
          "HEAT INDUSTRIES",
          "ATADATA",
          "SFL SCIENTIFIC",
          "BERSIN BY DELOITTE",
          "BARRASSO CONSULTING L.L.C.",
          "INNOWAKE INTERNATIONAL INC",
          "DELOITTE FINANCIAL ADVISORY SERVICES LLP",
          "DELOITTE TAX LLP",
          "DELOITTE LLP",
          "DELOITTE SERVICES LP",
          "DELOITTE DEVELOPMENT LLC",
          "MONITOR DELOITTE",
          "THE MONITOR GROUP INC",
          "SENTEK GLOBAL",
          "DELOITTE CONSULTING L.P.",
          "DELOITTE TRANSACTIONS AND BUSINESS ANALYTICS LLP",
          "DELOITTE AND TOUCHE OVERSEAS SERVICES LLC",
          "DELOITTE TOUCHE TOHMATSU SERVICES, INC.",
          "DELOITTE AND TOUCHE LLP",
          "NATIONAL TELECONSULTANTS",
          "DELOITTE CONSULTING L.P. OF WASHINGTON"
         ],
         "textposition": "top center",
         "type": "scatter",
         "x": [
          2540,
          2540,
          27,
          136,
          308,
          470,
          620,
          822,
          1094,
          1416,
          1811,
          2146,
          2333,
          2540,
          2819,
          3085,
          3331,
          3562,
          3800,
          4221,
          4740,
          5208,
          5579,
          5881,
          6259
         ],
         "y": [
          162,
          90,
          18,
          18,
          18,
          18,
          18,
          18,
          18,
          18,
          18,
          18,
          18,
          18,
          18,
          18,
          18,
          18,
          18,
          18,
          18,
          18,
          18,
          18,
          18
         ]
        }
       ],
       "layout": {
        "showlegend": false,
        "template": {
         "data": {
          "bar": [
           {
            "error_x": {
             "color": "#2a3f5f"
            },
            "error_y": {
             "color": "#2a3f5f"
            },
            "marker": {
             "line": {
              "color": "#E5ECF6",
              "width": 0.5
             },
             "pattern": {
              "fillmode": "overlay",
              "size": 10,
              "solidity": 0.2
             }
            },
            "type": "bar"
           }
          ],
          "barpolar": [
           {
            "marker": {
             "line": {
              "color": "#E5ECF6",
              "width": 0.5
             },
             "pattern": {
              "fillmode": "overlay",
              "size": 10,
              "solidity": 0.2
             }
            },
            "type": "barpolar"
           }
          ],
          "carpet": [
           {
            "aaxis": {
             "endlinecolor": "#2a3f5f",
             "gridcolor": "white",
             "linecolor": "white",
             "minorgridcolor": "white",
             "startlinecolor": "#2a3f5f"
            },
            "baxis": {
             "endlinecolor": "#2a3f5f",
             "gridcolor": "white",
             "linecolor": "white",
             "minorgridcolor": "white",
             "startlinecolor": "#2a3f5f"
            },
            "type": "carpet"
           }
          ],
          "choropleth": [
           {
            "colorbar": {
             "outlinewidth": 0,
             "ticks": ""
            },
            "type": "choropleth"
           }
          ],
          "contour": [
           {
            "colorbar": {
             "outlinewidth": 0,
             "ticks": ""
            },
            "colorscale": [
             [
              0,
              "#0d0887"
             ],
             [
              0.1111111111111111,
              "#46039f"
             ],
             [
              0.2222222222222222,
              "#7201a8"
             ],
             [
              0.3333333333333333,
              "#9c179e"
             ],
             [
              0.4444444444444444,
              "#bd3786"
             ],
             [
              0.5555555555555556,
              "#d8576b"
             ],
             [
              0.6666666666666666,
              "#ed7953"
             ],
             [
              0.7777777777777778,
              "#fb9f3a"
             ],
             [
              0.8888888888888888,
              "#fdca26"
             ],
             [
              1,
              "#f0f921"
             ]
            ],
            "type": "contour"
           }
          ],
          "contourcarpet": [
           {
            "colorbar": {
             "outlinewidth": 0,
             "ticks": ""
            },
            "type": "contourcarpet"
           }
          ],
          "heatmap": [
           {
            "colorbar": {
             "outlinewidth": 0,
             "ticks": ""
            },
            "colorscale": [
             [
              0,
              "#0d0887"
             ],
             [
              0.1111111111111111,
              "#46039f"
             ],
             [
              0.2222222222222222,
              "#7201a8"
             ],
             [
              0.3333333333333333,
              "#9c179e"
             ],
             [
              0.4444444444444444,
              "#bd3786"
             ],
             [
              0.5555555555555556,
              "#d8576b"
             ],
             [
              0.6666666666666666,
              "#ed7953"
             ],
             [
              0.7777777777777778,
              "#fb9f3a"
             ],
             [
              0.8888888888888888,
              "#fdca26"
             ],
             [
              1,
              "#f0f921"
             ]
            ],
            "type": "heatmap"
           }
          ],
          "histogram": [
           {
            "marker": {
             "pattern": {
              "fillmode": "overlay",
              "size": 10,
              "solidity": 0.2
             }
            },
            "type": "histogram"
           }
          ],
          "histogram2d": [
           {
            "colorbar": {
             "outlinewidth": 0,
             "ticks": ""
            },
            "colorscale": [
             [
              0,
              "#0d0887"
             ],
             [
              0.1111111111111111,
              "#46039f"
             ],
             [
              0.2222222222222222,
              "#7201a8"
             ],
             [
              0.3333333333333333,
              "#9c179e"
             ],
             [
              0.4444444444444444,
              "#bd3786"
             ],
             [
              0.5555555555555556,
              "#d8576b"
             ],
             [
              0.6666666666666666,
              "#ed7953"
             ],
             [
              0.7777777777777778,
              "#fb9f3a"
             ],
             [
              0.8888888888888888,
              "#fdca26"
             ],
             [
              1,
              "#f0f921"
             ]
            ],
            "type": "histogram2d"
           }
          ],
          "histogram2dcontour": [
           {
            "colorbar": {
             "outlinewidth": 0,
             "ticks": ""
            },
            "colorscale": [
             [
              0,
              "#0d0887"
             ],
             [
              0.1111111111111111,
              "#46039f"
             ],
             [
              0.2222222222222222,
              "#7201a8"
             ],
             [
              0.3333333333333333,
              "#9c179e"
             ],
             [
              0.4444444444444444,
              "#bd3786"
             ],
             [
              0.5555555555555556,
              "#d8576b"
             ],
             [
              0.6666666666666666,
              "#ed7953"
             ],
             [
              0.7777777777777778,
              "#fb9f3a"
             ],
             [
              0.8888888888888888,
              "#fdca26"
             ],
             [
              1,
              "#f0f921"
             ]
            ],
            "type": "histogram2dcontour"
           }
          ],
          "mesh3d": [
           {
            "colorbar": {
             "outlinewidth": 0,
             "ticks": ""
            },
            "type": "mesh3d"
           }
          ],
          "parcoords": [
           {
            "line": {
             "colorbar": {
              "outlinewidth": 0,
              "ticks": ""
             }
            },
            "type": "parcoords"
           }
          ],
          "pie": [
           {
            "automargin": true,
            "type": "pie"
           }
          ],
          "scatter": [
           {
            "fillpattern": {
             "fillmode": "overlay",
             "size": 10,
             "solidity": 0.2
            },
            "type": "scatter"
           }
          ],
          "scatter3d": [
           {
            "line": {
             "colorbar": {
              "outlinewidth": 0,
              "ticks": ""
             }
            },
            "marker": {
             "colorbar": {
              "outlinewidth": 0,
              "ticks": ""
             }
            },
            "type": "scatter3d"
           }
          ],
          "scattercarpet": [
           {
            "marker": {
             "colorbar": {
              "outlinewidth": 0,
              "ticks": ""
             }
            },
            "type": "scattercarpet"
           }
          ],
          "scattergeo": [
           {
            "marker": {
             "colorbar": {
              "outlinewidth": 0,
              "ticks": ""
             }
            },
            "type": "scattergeo"
           }
          ],
          "scattergl": [
           {
            "marker": {
             "colorbar": {
              "outlinewidth": 0,
              "ticks": ""
             }
            },
            "type": "scattergl"
           }
          ],
          "scattermap": [
           {
            "marker": {
             "colorbar": {
              "outlinewidth": 0,
              "ticks": ""
             }
            },
            "type": "scattermap"
           }
          ],
          "scattermapbox": [
           {
            "marker": {
             "colorbar": {
              "outlinewidth": 0,
              "ticks": ""
             }
            },
            "type": "scattermapbox"
           }
          ],
          "scatterpolar": [
           {
            "marker": {
             "colorbar": {
              "outlinewidth": 0,
              "ticks": ""
             }
            },
            "type": "scatterpolar"
           }
          ],
          "scatterpolargl": [
           {
            "marker": {
             "colorbar": {
              "outlinewidth": 0,
              "ticks": ""
             }
            },
            "type": "scatterpolargl"
           }
          ],
          "scatterternary": [
           {
            "marker": {
             "colorbar": {
              "outlinewidth": 0,
              "ticks": ""
             }
            },
            "type": "scatterternary"
           }
          ],
          "surface": [
           {
            "colorbar": {
             "outlinewidth": 0,
             "ticks": ""
            },
            "colorscale": [
             [
              0,
              "#0d0887"
             ],
             [
              0.1111111111111111,
              "#46039f"
             ],
             [
              0.2222222222222222,
              "#7201a8"
             ],
             [
              0.3333333333333333,
              "#9c179e"
             ],
             [
              0.4444444444444444,
              "#bd3786"
             ],
             [
              0.5555555555555556,
              "#d8576b"
             ],
             [
              0.6666666666666666,
              "#ed7953"
             ],
             [
              0.7777777777777778,
              "#fb9f3a"
             ],
             [
              0.8888888888888888,
              "#fdca26"
             ],
             [
              1,
              "#f0f921"
             ]
            ],
            "type": "surface"
           }
          ],
          "table": [
           {
            "cells": {
             "fill": {
              "color": "#EBF0F8"
             },
             "line": {
              "color": "white"
             }
            },
            "header": {
             "fill": {
              "color": "#C8D4E3"
             },
             "line": {
              "color": "white"
             }
            },
            "type": "table"
           }
          ]
         },
         "layout": {
          "annotationdefaults": {
           "arrowcolor": "#2a3f5f",
           "arrowhead": 0,
           "arrowwidth": 1
          },
          "autotypenumbers": "strict",
          "coloraxis": {
           "colorbar": {
            "outlinewidth": 0,
            "ticks": ""
           }
          },
          "colorscale": {
           "diverging": [
            [
             0,
             "#8e0152"
            ],
            [
             0.1,
             "#c51b7d"
            ],
            [
             0.2,
             "#de77ae"
            ],
            [
             0.3,
             "#f1b6da"
            ],
            [
             0.4,
             "#fde0ef"
            ],
            [
             0.5,
             "#f7f7f7"
            ],
            [
             0.6,
             "#e6f5d0"
            ],
            [
             0.7,
             "#b8e186"
            ],
            [
             0.8,
             "#7fbc41"
            ],
            [
             0.9,
             "#4d9221"
            ],
            [
             1,
             "#276419"
            ]
           ],
           "sequential": [
            [
             0,
             "#0d0887"
            ],
            [
             0.1111111111111111,
             "#46039f"
            ],
            [
             0.2222222222222222,
             "#7201a8"
            ],
            [
             0.3333333333333333,
             "#9c179e"
            ],
            [
             0.4444444444444444,
             "#bd3786"
            ],
            [
             0.5555555555555556,
             "#d8576b"
            ],
            [
             0.6666666666666666,
             "#ed7953"
            ],
            [
             0.7777777777777778,
             "#fb9f3a"
            ],
            [
             0.8888888888888888,
             "#fdca26"
            ],
            [
             1,
             "#f0f921"
            ]
           ],
           "sequentialminus": [
            [
             0,
             "#0d0887"
            ],
            [
             0.1111111111111111,
             "#46039f"
            ],
            [
             0.2222222222222222,
             "#7201a8"
            ],
            [
             0.3333333333333333,
             "#9c179e"
            ],
            [
             0.4444444444444444,
             "#bd3786"
            ],
            [
             0.5555555555555556,
             "#d8576b"
            ],
            [
             0.6666666666666666,
             "#ed7953"
            ],
            [
             0.7777777777777778,
             "#fb9f3a"
            ],
            [
             0.8888888888888888,
             "#fdca26"
            ],
            [
             1,
             "#f0f921"
            ]
           ]
          },
          "colorway": [
           "#636efa",
           "#EF553B",
           "#00cc96",
           "#ab63fa",
           "#FFA15A",
           "#19d3f3",
           "#FF6692",
           "#B6E880",
           "#FF97FF",
           "#FECB52"
          ],
          "font": {
           "color": "#2a3f5f"
          },
          "geo": {
           "bgcolor": "white",
           "lakecolor": "white",
           "landcolor": "#E5ECF6",
           "showlakes": true,
           "showland": true,
           "subunitcolor": "white"
          },
          "hoverlabel": {
           "align": "left"
          },
          "hovermode": "closest",
          "mapbox": {
           "style": "light"
          },
          "paper_bgcolor": "white",
          "plot_bgcolor": "#E5ECF6",
          "polar": {
           "angularaxis": {
            "gridcolor": "white",
            "linecolor": "white",
            "ticks": ""
           },
           "bgcolor": "#E5ECF6",
           "radialaxis": {
            "gridcolor": "white",
            "linecolor": "white",
            "ticks": ""
           }
          },
          "scene": {
           "xaxis": {
            "backgroundcolor": "#E5ECF6",
            "gridcolor": "white",
            "gridwidth": 2,
            "linecolor": "white",
            "showbackground": true,
            "ticks": "",
            "zerolinecolor": "white"
           },
           "yaxis": {
            "backgroundcolor": "#E5ECF6",
            "gridcolor": "white",
            "gridwidth": 2,
            "linecolor": "white",
            "showbackground": true,
            "ticks": "",
            "zerolinecolor": "white"
           },
           "zaxis": {
            "backgroundcolor": "#E5ECF6",
            "gridcolor": "white",
            "gridwidth": 2,
            "linecolor": "white",
            "showbackground": true,
            "ticks": "",
            "zerolinecolor": "white"
           }
          },
          "shapedefaults": {
           "line": {
            "color": "#2a3f5f"
           }
          },
          "ternary": {
           "aaxis": {
            "gridcolor": "white",
            "linecolor": "white",
            "ticks": ""
           },
           "baxis": {
            "gridcolor": "white",
            "linecolor": "white",
            "ticks": ""
           },
           "bgcolor": "#E5ECF6",
           "caxis": {
            "gridcolor": "white",
            "linecolor": "white",
            "ticks": ""
           }
          },
          "title": {
           "x": 0.05
          },
          "xaxis": {
           "automargin": true,
           "gridcolor": "white",
           "linecolor": "white",
           "ticks": "",
           "title": {
            "standoff": 15
           },
           "zerolinecolor": "white",
           "zerolinewidth": 2
          },
          "yaxis": {
           "automargin": true,
           "gridcolor": "white",
           "linecolor": "white",
           "ticks": "",
           "title": {
            "standoff": 15
           },
           "zerolinecolor": "white",
           "zerolinewidth": 2
          }
         }
        },
        "title": {
         "text": "Hierarchy Graph"
        },
        "xaxis": {
         "showgrid": false,
         "showticklabels": false,
         "zeroline": false
        },
        "yaxis": {
         "showgrid": false,
         "showticklabels": false,
         "zeroline": false
        }
       }
      }
     },
     "metadata": {},
     "output_type": "display_data"
    }
   ],
   "source": [
    "import plotly.graph_objects as go\n",
    "import networkx as nx\n",
    "import pandas as pd\n",
    "\n",
    "# # Sample DataFrame\n",
    "# data = {\n",
    "#     \"EFX_LEGSUBNAMEALL\": [\n",
    "#         \"CIS\",\n",
    "#         \"DOBLIN INC\",\n",
    "#         \"HEAT INDUSTRIES\",\n",
    "#         \"CIS\",\n",
    "#         \"HEAT INDUSTRIES\",\n",
    "#     ],\n",
    "#     \"EFX_LEGDOMULTNAMEALL\": [\"DELOITTE US DENVER\"] * 5,\n",
    "#     \"EFX_AFFLULTNAMEALL\": [\"DELOITTE TOUCHE TOHMATSU LIMITED\"] * 5,\n",
    "# }\n",
    "# df = pd.DataFrame(data)\n",
    "\n",
    "# Create a directed graph\n",
    "G = nx.DiGraph()\n",
    "\n",
    "# Add edges to the graph\n",
    "for _, row in df.iterrows():\n",
    "    G.add_edge(row[\"EFX_AFFLULTNAMEALL\"], row[\"EFX_LEGDOMULTNAMEALL\"])\n",
    "    G.add_edge(row[\"EFX_LEGDOMULTNAMEALL\"], row[\"EFX_LEGSUBNAMEALL\"])\n",
    "\n",
    "# Generate hierarchical layout using Graphviz\n",
    "pos = nx.nx_agraph.graphviz_layout(G, prog=\"dot\")\n",
    "\n",
    "# Extract edge coordinates\n",
    "edge_x = []\n",
    "edge_y = []\n",
    "for edge in G.edges():\n",
    "    x0, y0 = pos[edge[0]]\n",
    "    x1, y1 = pos[edge[1]]\n",
    "    edge_x.extend([x0, x1, None])\n",
    "    edge_y.extend([y0, y1, None])\n",
    "\n",
    "# Extract node coordinates\n",
    "node_x = [pos[node][0] for node in G.nodes()]\n",
    "node_y = [pos[node][1] for node in G.nodes()]\n",
    "\n",
    "# Create figure\n",
    "fig = go.Figure()\n",
    "\n",
    "# Add edges\n",
    "fig.add_trace(\n",
    "    go.Scatter(\n",
    "        x=edge_x,\n",
    "        y=edge_y,\n",
    "        mode=\"lines\",\n",
    "        line=dict(width=1, color=\"black\"),\n",
    "        hoverinfo=\"none\",\n",
    "    )\n",
    ")\n",
    "\n",
    "# Add nodes\n",
    "fig.add_trace(\n",
    "    go.Scatter(\n",
    "        x=node_x,\n",
    "        y=node_y,\n",
    "        mode=\"markers+text\",\n",
    "        marker=dict(size=10, color=\"lightblue\"),\n",
    "        text=list(G.nodes()),\n",
    "        textposition=\"top center\",\n",
    "    )\n",
    ")\n",
    "\n",
    "# Layout settings\n",
    "fig.update_layout(\n",
    "    title=\"Hierarchy Graph\",\n",
    "    showlegend=False,\n",
    "    xaxis=dict(showgrid=False, zeroline=False, showticklabels=False),\n",
    "    yaxis=dict(showgrid=False, zeroline=False, showticklabels=False),\n",
    ")\n",
    "\n",
    "fig.show()"
   ]
  },
  {
   "cell_type": "code",
   "execution_count": null,
   "metadata": {},
   "outputs": [],
   "source": [
    "import math\n",
    "\n",
    "\n",
    "def determine_text_position(angle):\n",
    "    if 0 <= angle < math.radians(75):\n",
    "        return \"top right\"\n",
    "    elif math.radians(75) <= angle < math.radians(105):\n",
    "        return \"top center\"\n",
    "    elif math.radians(105) <= angle < math.radians(135):\n",
    "        return \"top left\"\n",
    "    elif math.radians(135) <= angle < math.radians(215):\n",
    "        return \"middle left\"\n",
    "    elif math.radians(215) <= angle < math.radians(255):\n",
    "        return \"bottom left\"\n",
    "    elif math.radians(255) <= angle < math.radians(285):\n",
    "        return \"bottom center\"\n",
    "    elif math.radians(285) <= angle < math.radians(315):\n",
    "        return \"bottom right\"\n",
    "    else:  # 315 - 360 degrees\n",
    "        return \"middle right\""
   ]
  },
  {
   "cell_type": "code",
   "execution_count": null,
   "metadata": {},
   "outputs": [
    {
     "data": {
      "application/vnd.plotly.v1+json": {
       "config": {
        "plotlyServerURL": "https://plot.ly"
       },
       "data": [
        {
         "hoverinfo": "none",
         "line": {
          "color": "#888",
          "width": 1
         },
         "mode": "lines",
         "type": "scatter",
         "x": [
          -4.5,
          2,
          null,
          2,
          5.8116116233520225,
          null,
          2,
          5.702705627246385,
          null,
          2,
          5.255758600655944,
          null,
          2,
          4.575231554722808,
          null,
          2,
          3.710054046430032,
          null,
          2,
          2.724197968073233,
          null,
          2,
          1.757917686077276,
          null,
          2,
          0.6938715087449259,
          null,
          2,
          -0.15911203191776635,
          null,
          2,
          -0.9338235074878919,
          null,
          2,
          -1.5284692543560123,
          null,
          2,
          -1.790861603191946,
          null,
          2,
          -1.7216750529220908,
          null,
          2,
          -1.5136781781434843,
          null,
          2,
          -0.9344288905467296,
          null,
          2,
          -0.16341541147036776,
          null,
          2,
          0.6854376151116259,
          null,
          2,
          1.7404433445400227,
          null,
          2,
          2.7544730930289183,
          null,
          2,
          3.741630621377653,
          null,
          2,
          4.560486531590191,
          null,
          2,
          5.29669818330265,
          null,
          2,
          5.697430279165932,
          null
         ],
         "y": [
          0.5,
          -1,
          null,
          -1,
          -0.9819443859601803,
          null,
          -1,
          0.03884232489200061,
          null,
          -1,
          0.9920332861065981,
          null,
          -1,
          1.8097834916253461,
          null,
          -1,
          2.4223659237083526,
          null,
          -1,
          2.7332778354043166,
          null,
          -1,
          2.805437144829729,
          null,
          -1,
          2.6195793400271357,
          null,
          -1,
          2.0654520388941218,
          null,
          -1,
          1.386562103789108,
          null,
          -1,
          0.4869152826867325,
          null,
          -1,
          -0.5170117168367959,
          null,
          -1,
          -1.5167216361137266,
          null,
          -1,
          -2.5303691375070736,
          null,
          -1,
          -3.3530660530301577,
          null,
          -1,
          -4.085516715355854,
          null,
          -1,
          -4.5911015323180875,
          null,
          -1,
          -4.745659872426455,
          null,
          -1,
          -4.693366133698037,
          null,
          -1,
          -4.370294304781851,
          null,
          -1,
          -3.7276753302097037,
          null,
          -1,
          -2.9730876157927226,
          null,
          -1,
          -2.030904864724895,
          null
         ]
        },
        {
         "hoverinfo": "text",
         "marker": {
          "color": [
           "black",
           "orange",
           "blue",
           "blue",
           "blue",
           "blue",
           "blue",
           "blue",
           "blue",
           "blue",
           "blue",
           "blue",
           "blue",
           "blue",
           "blue",
           "blue",
           "blue",
           "blue",
           "blue",
           "blue",
           "blue",
           "blue",
           "blue",
           "blue",
           "blue"
          ],
          "line": {
           "width": 2
          },
          "size": [
           20,
           15,
           10,
           10,
           10,
           10,
           10,
           10,
           10,
           10,
           10,
           10,
           10,
           10,
           10,
           10,
           10,
           10,
           10,
           10,
           10,
           10,
           10,
           10,
           10
          ]
         },
         "mode": "markers+text",
         "text": [
          "DELOITTE TOUCHE TOHMATSU LIMITED",
          "DELOITTE US DENVER",
          "CIS",
          "DOBLIN INC",
          "HEAT INDUSTRIES",
          "ATADATA",
          "SFL SCIENTIFIC",
          "BERSIN BY DELOITTE",
          "BARRASSO CONSULTING L.L.C.",
          "INNOWAKE INTERNATIONAL INC",
          "DELOITTE FINANCIAL ADVISORY SERVICES LLP",
          "DELOITTE TAX LLP",
          "DELOITTE LLP",
          "DELOITTE SERVICES LP",
          "DELOITTE DEVELOPMENT LLC",
          "MONITOR DELOITTE",
          "THE MONITOR GROUP INC",
          "SENTEK GLOBAL",
          "DELOITTE CONSULTING L.P.",
          "DELOITTE TRANSACTIONS AND BUSINESS ANALYTICS LLP",
          "DELOITTE AND TOUCHE OVERSEAS SERVICES LLC",
          "DELOITTE TOUCHE TOHMATSU SERVICES, INC.",
          "DELOITTE AND TOUCHE LLP",
          "NATIONAL TELECONSULTANTS",
          "DELOITTE CONSULTING L.P. OF WASHINGTON"
         ],
         "textposition": [
          "top right",
          "top right",
          "top right",
          "bottom left",
          "bottom left",
          "top right",
          "middle right",
          "top right",
          "top right",
          "bottom center",
          "middle left",
          "middle left",
          "middle left",
          "middle left",
          "top left",
          "bottom center",
          "middle right",
          "bottom right",
          "top center",
          "bottom left",
          "top center",
          "middle left",
          "top right",
          "bottom right",
          "top left"
         ],
         "type": "scatter",
         "x": [
          -4.5,
          2,
          4.575231554722808,
          -0.16341541147036776,
          0.6854376151116259,
          5.8116116233520225,
          5.29669818330265,
          5.255758600655944,
          5.702705627246385,
          1.7404433445400227,
          -0.9338235074878919,
          -1.7216750529220908,
          -1.5284692543560123,
          -1.790861603191946,
          -0.15911203191776635,
          2.7544730930289183,
          5.697430279165932,
          4.560486531590191,
          1.757917686077276,
          -0.9344288905467296,
          2.724197968073233,
          -1.5136781781434843,
          3.710054046430032,
          3.741630621377653,
          0.6938715087449259
         ],
         "y": [
          0.5,
          -1,
          1.8097834916253461,
          -4.085516715355854,
          -4.5911015323180875,
          -0.9819443859601803,
          -2.9730876157927226,
          0.9920332861065981,
          0.03884232489200061,
          -4.745659872426455,
          1.386562103789108,
          -1.5167216361137266,
          0.4869152826867325,
          -0.5170117168367959,
          2.0654520388941218,
          -4.693366133698037,
          -2.030904864724895,
          -3.7276753302097037,
          2.805437144829729,
          -3.3530660530301577,
          2.7332778354043166,
          -2.5303691375070736,
          2.4223659237083526,
          -4.370294304781851,
          2.6195793400271357
         ]
        }
       ],
       "layout": {
        "font": {
         "size": 12
        },
        "height": 800,
        "hovermode": "closest",
        "margin": {
         "b": 20,
         "l": 5,
         "r": 5,
         "t": 40
        },
        "plot_bgcolor": "white",
        "showlegend": false,
        "template": {
         "data": {
          "bar": [
           {
            "error_x": {
             "color": "#2a3f5f"
            },
            "error_y": {
             "color": "#2a3f5f"
            },
            "marker": {
             "line": {
              "color": "#E5ECF6",
              "width": 0.5
             },
             "pattern": {
              "fillmode": "overlay",
              "size": 10,
              "solidity": 0.2
             }
            },
            "type": "bar"
           }
          ],
          "barpolar": [
           {
            "marker": {
             "line": {
              "color": "#E5ECF6",
              "width": 0.5
             },
             "pattern": {
              "fillmode": "overlay",
              "size": 10,
              "solidity": 0.2
             }
            },
            "type": "barpolar"
           }
          ],
          "carpet": [
           {
            "aaxis": {
             "endlinecolor": "#2a3f5f",
             "gridcolor": "white",
             "linecolor": "white",
             "minorgridcolor": "white",
             "startlinecolor": "#2a3f5f"
            },
            "baxis": {
             "endlinecolor": "#2a3f5f",
             "gridcolor": "white",
             "linecolor": "white",
             "minorgridcolor": "white",
             "startlinecolor": "#2a3f5f"
            },
            "type": "carpet"
           }
          ],
          "choropleth": [
           {
            "colorbar": {
             "outlinewidth": 0,
             "ticks": ""
            },
            "type": "choropleth"
           }
          ],
          "contour": [
           {
            "colorbar": {
             "outlinewidth": 0,
             "ticks": ""
            },
            "colorscale": [
             [
              0,
              "#0d0887"
             ],
             [
              0.1111111111111111,
              "#46039f"
             ],
             [
              0.2222222222222222,
              "#7201a8"
             ],
             [
              0.3333333333333333,
              "#9c179e"
             ],
             [
              0.4444444444444444,
              "#bd3786"
             ],
             [
              0.5555555555555556,
              "#d8576b"
             ],
             [
              0.6666666666666666,
              "#ed7953"
             ],
             [
              0.7777777777777778,
              "#fb9f3a"
             ],
             [
              0.8888888888888888,
              "#fdca26"
             ],
             [
              1,
              "#f0f921"
             ]
            ],
            "type": "contour"
           }
          ],
          "contourcarpet": [
           {
            "colorbar": {
             "outlinewidth": 0,
             "ticks": ""
            },
            "type": "contourcarpet"
           }
          ],
          "heatmap": [
           {
            "colorbar": {
             "outlinewidth": 0,
             "ticks": ""
            },
            "colorscale": [
             [
              0,
              "#0d0887"
             ],
             [
              0.1111111111111111,
              "#46039f"
             ],
             [
              0.2222222222222222,
              "#7201a8"
             ],
             [
              0.3333333333333333,
              "#9c179e"
             ],
             [
              0.4444444444444444,
              "#bd3786"
             ],
             [
              0.5555555555555556,
              "#d8576b"
             ],
             [
              0.6666666666666666,
              "#ed7953"
             ],
             [
              0.7777777777777778,
              "#fb9f3a"
             ],
             [
              0.8888888888888888,
              "#fdca26"
             ],
             [
              1,
              "#f0f921"
             ]
            ],
            "type": "heatmap"
           }
          ],
          "histogram": [
           {
            "marker": {
             "pattern": {
              "fillmode": "overlay",
              "size": 10,
              "solidity": 0.2
             }
            },
            "type": "histogram"
           }
          ],
          "histogram2d": [
           {
            "colorbar": {
             "outlinewidth": 0,
             "ticks": ""
            },
            "colorscale": [
             [
              0,
              "#0d0887"
             ],
             [
              0.1111111111111111,
              "#46039f"
             ],
             [
              0.2222222222222222,
              "#7201a8"
             ],
             [
              0.3333333333333333,
              "#9c179e"
             ],
             [
              0.4444444444444444,
              "#bd3786"
             ],
             [
              0.5555555555555556,
              "#d8576b"
             ],
             [
              0.6666666666666666,
              "#ed7953"
             ],
             [
              0.7777777777777778,
              "#fb9f3a"
             ],
             [
              0.8888888888888888,
              "#fdca26"
             ],
             [
              1,
              "#f0f921"
             ]
            ],
            "type": "histogram2d"
           }
          ],
          "histogram2dcontour": [
           {
            "colorbar": {
             "outlinewidth": 0,
             "ticks": ""
            },
            "colorscale": [
             [
              0,
              "#0d0887"
             ],
             [
              0.1111111111111111,
              "#46039f"
             ],
             [
              0.2222222222222222,
              "#7201a8"
             ],
             [
              0.3333333333333333,
              "#9c179e"
             ],
             [
              0.4444444444444444,
              "#bd3786"
             ],
             [
              0.5555555555555556,
              "#d8576b"
             ],
             [
              0.6666666666666666,
              "#ed7953"
             ],
             [
              0.7777777777777778,
              "#fb9f3a"
             ],
             [
              0.8888888888888888,
              "#fdca26"
             ],
             [
              1,
              "#f0f921"
             ]
            ],
            "type": "histogram2dcontour"
           }
          ],
          "mesh3d": [
           {
            "colorbar": {
             "outlinewidth": 0,
             "ticks": ""
            },
            "type": "mesh3d"
           }
          ],
          "parcoords": [
           {
            "line": {
             "colorbar": {
              "outlinewidth": 0,
              "ticks": ""
             }
            },
            "type": "parcoords"
           }
          ],
          "pie": [
           {
            "automargin": true,
            "type": "pie"
           }
          ],
          "scatter": [
           {
            "fillpattern": {
             "fillmode": "overlay",
             "size": 10,
             "solidity": 0.2
            },
            "type": "scatter"
           }
          ],
          "scatter3d": [
           {
            "line": {
             "colorbar": {
              "outlinewidth": 0,
              "ticks": ""
             }
            },
            "marker": {
             "colorbar": {
              "outlinewidth": 0,
              "ticks": ""
             }
            },
            "type": "scatter3d"
           }
          ],
          "scattercarpet": [
           {
            "marker": {
             "colorbar": {
              "outlinewidth": 0,
              "ticks": ""
             }
            },
            "type": "scattercarpet"
           }
          ],
          "scattergeo": [
           {
            "marker": {
             "colorbar": {
              "outlinewidth": 0,
              "ticks": ""
             }
            },
            "type": "scattergeo"
           }
          ],
          "scattergl": [
           {
            "marker": {
             "colorbar": {
              "outlinewidth": 0,
              "ticks": ""
             }
            },
            "type": "scattergl"
           }
          ],
          "scattermap": [
           {
            "marker": {
             "colorbar": {
              "outlinewidth": 0,
              "ticks": ""
             }
            },
            "type": "scattermap"
           }
          ],
          "scattermapbox": [
           {
            "marker": {
             "colorbar": {
              "outlinewidth": 0,
              "ticks": ""
             }
            },
            "type": "scattermapbox"
           }
          ],
          "scatterpolar": [
           {
            "marker": {
             "colorbar": {
              "outlinewidth": 0,
              "ticks": ""
             }
            },
            "type": "scatterpolar"
           }
          ],
          "scatterpolargl": [
           {
            "marker": {
             "colorbar": {
              "outlinewidth": 0,
              "ticks": ""
             }
            },
            "type": "scatterpolargl"
           }
          ],
          "scatterternary": [
           {
            "marker": {
             "colorbar": {
              "outlinewidth": 0,
              "ticks": ""
             }
            },
            "type": "scatterternary"
           }
          ],
          "surface": [
           {
            "colorbar": {
             "outlinewidth": 0,
             "ticks": ""
            },
            "colorscale": [
             [
              0,
              "#0d0887"
             ],
             [
              0.1111111111111111,
              "#46039f"
             ],
             [
              0.2222222222222222,
              "#7201a8"
             ],
             [
              0.3333333333333333,
              "#9c179e"
             ],
             [
              0.4444444444444444,
              "#bd3786"
             ],
             [
              0.5555555555555556,
              "#d8576b"
             ],
             [
              0.6666666666666666,
              "#ed7953"
             ],
             [
              0.7777777777777778,
              "#fb9f3a"
             ],
             [
              0.8888888888888888,
              "#fdca26"
             ],
             [
              1,
              "#f0f921"
             ]
            ],
            "type": "surface"
           }
          ],
          "table": [
           {
            "cells": {
             "fill": {
              "color": "#EBF0F8"
             },
             "line": {
              "color": "white"
             }
            },
            "header": {
             "fill": {
              "color": "#C8D4E3"
             },
             "line": {
              "color": "white"
             }
            },
            "type": "table"
           }
          ]
         },
         "layout": {
          "annotationdefaults": {
           "arrowcolor": "#2a3f5f",
           "arrowhead": 0,
           "arrowwidth": 1
          },
          "autotypenumbers": "strict",
          "coloraxis": {
           "colorbar": {
            "outlinewidth": 0,
            "ticks": ""
           }
          },
          "colorscale": {
           "diverging": [
            [
             0,
             "#8e0152"
            ],
            [
             0.1,
             "#c51b7d"
            ],
            [
             0.2,
             "#de77ae"
            ],
            [
             0.3,
             "#f1b6da"
            ],
            [
             0.4,
             "#fde0ef"
            ],
            [
             0.5,
             "#f7f7f7"
            ],
            [
             0.6,
             "#e6f5d0"
            ],
            [
             0.7,
             "#b8e186"
            ],
            [
             0.8,
             "#7fbc41"
            ],
            [
             0.9,
             "#4d9221"
            ],
            [
             1,
             "#276419"
            ]
           ],
           "sequential": [
            [
             0,
             "#0d0887"
            ],
            [
             0.1111111111111111,
             "#46039f"
            ],
            [
             0.2222222222222222,
             "#7201a8"
            ],
            [
             0.3333333333333333,
             "#9c179e"
            ],
            [
             0.4444444444444444,
             "#bd3786"
            ],
            [
             0.5555555555555556,
             "#d8576b"
            ],
            [
             0.6666666666666666,
             "#ed7953"
            ],
            [
             0.7777777777777778,
             "#fb9f3a"
            ],
            [
             0.8888888888888888,
             "#fdca26"
            ],
            [
             1,
             "#f0f921"
            ]
           ],
           "sequentialminus": [
            [
             0,
             "#0d0887"
            ],
            [
             0.1111111111111111,
             "#46039f"
            ],
            [
             0.2222222222222222,
             "#7201a8"
            ],
            [
             0.3333333333333333,
             "#9c179e"
            ],
            [
             0.4444444444444444,
             "#bd3786"
            ],
            [
             0.5555555555555556,
             "#d8576b"
            ],
            [
             0.6666666666666666,
             "#ed7953"
            ],
            [
             0.7777777777777778,
             "#fb9f3a"
            ],
            [
             0.8888888888888888,
             "#fdca26"
            ],
            [
             1,
             "#f0f921"
            ]
           ]
          },
          "colorway": [
           "#636efa",
           "#EF553B",
           "#00cc96",
           "#ab63fa",
           "#FFA15A",
           "#19d3f3",
           "#FF6692",
           "#B6E880",
           "#FF97FF",
           "#FECB52"
          ],
          "font": {
           "color": "#2a3f5f"
          },
          "geo": {
           "bgcolor": "white",
           "lakecolor": "white",
           "landcolor": "#E5ECF6",
           "showlakes": true,
           "showland": true,
           "subunitcolor": "white"
          },
          "hoverlabel": {
           "align": "left"
          },
          "hovermode": "closest",
          "mapbox": {
           "style": "light"
          },
          "paper_bgcolor": "white",
          "plot_bgcolor": "#E5ECF6",
          "polar": {
           "angularaxis": {
            "gridcolor": "white",
            "linecolor": "white",
            "ticks": ""
           },
           "bgcolor": "#E5ECF6",
           "radialaxis": {
            "gridcolor": "white",
            "linecolor": "white",
            "ticks": ""
           }
          },
          "scene": {
           "xaxis": {
            "backgroundcolor": "#E5ECF6",
            "gridcolor": "white",
            "gridwidth": 2,
            "linecolor": "white",
            "showbackground": true,
            "ticks": "",
            "zerolinecolor": "white"
           },
           "yaxis": {
            "backgroundcolor": "#E5ECF6",
            "gridcolor": "white",
            "gridwidth": 2,
            "linecolor": "white",
            "showbackground": true,
            "ticks": "",
            "zerolinecolor": "white"
           },
           "zaxis": {
            "backgroundcolor": "#E5ECF6",
            "gridcolor": "white",
            "gridwidth": 2,
            "linecolor": "white",
            "showbackground": true,
            "ticks": "",
            "zerolinecolor": "white"
           }
          },
          "shapedefaults": {
           "line": {
            "color": "#2a3f5f"
           }
          },
          "ternary": {
           "aaxis": {
            "gridcolor": "white",
            "linecolor": "white",
            "ticks": ""
           },
           "baxis": {
            "gridcolor": "white",
            "linecolor": "white",
            "ticks": ""
           },
           "bgcolor": "#E5ECF6",
           "caxis": {
            "gridcolor": "white",
            "linecolor": "white",
            "ticks": ""
           }
          },
          "title": {
           "x": 0.05
          },
          "xaxis": {
           "automargin": true,
           "gridcolor": "white",
           "linecolor": "white",
           "ticks": "",
           "title": {
            "standoff": 15
           },
           "zerolinecolor": "white",
           "zerolinewidth": 2
          },
          "yaxis": {
           "automargin": true,
           "gridcolor": "white",
           "linecolor": "white",
           "ticks": "",
           "title": {
            "standoff": 15
           },
           "zerolinecolor": "white",
           "zerolinewidth": 2
          }
         }
        },
        "title": {
         "text": "Organizational Hierarchy (Circular Leaf Nodes with Clock Positioning)"
        },
        "width": 1200,
        "xaxis": {
         "showgrid": false,
         "showticklabels": false,
         "zeroline": false
        },
        "yaxis": {
         "showgrid": false,
         "showticklabels": false,
         "zeroline": false
        }
       }
      }
     },
     "metadata": {},
     "output_type": "display_data"
    }
   ],
   "source": [
    "import pandas as pd\n",
    "import plotly.graph_objects as go\n",
    "import networkx as nx\n",
    "import math\n",
    "import numpy as np\n",
    "\n",
    "# # Create a dataframe from the given data\n",
    "# # If using your full dataframe, replace this with your actual dataframe\n",
    "# data = {\n",
    "#     'EFX_LEGSUBNAMEALL': ['CIS', 'DOBLIN INC', 'HEAT INDUSTRIES', 'CIS', 'HEAT INDUSTRIES'],\n",
    "#     'EFX_LEGDOMULTNAMEALL': ['DELOITTE US DENVER', 'DELOITTE US DENVER', 'DELOITTE US DENVER', 'DELOITTE US DENVER', 'DELOITTE US DENVER'],\n",
    "#     'EFX_AFFLULTNAMEALL': ['DELOITTE TOUCHE TOHMATSU LIMITED', 'DELOITTE TOUCHE TOHMATSU LIMITED', 'DELOITTE TOUCHE TOHMATSU LIMITED', 'DELOITTE TOUCHE TOHMATSU LIMITED', 'DELOITTE TOUCHE TOHMATSU LIMITED']\n",
    "# }\n",
    "# df = pd.DataFrame(data)\n",
    "\n",
    "# For the full dataframe, use your variable name instead\n",
    "df = pd.read_csv(r\"EFX_dataset25.csv\")\n",
    "df = df[[\"EFX_LEGSUBNAMEALL\", \"EFX_LEGDOMULTNAMEALL\", \"EFX_AFFLULTNAMEALL\"]]\n",
    "df = df.drop_duplicates()\n",
    "df = df[df[\"EFX_LEGDOMULTNAMEALL\"] != df[\"EFX_LEGSUBNAMEALL\"]]\n",
    "\n",
    "# Get unique values for each level\n",
    "affil_names = df[\"EFX_AFFLULTNAMEALL\"].unique()\n",
    "legdom_names = df[\"EFX_LEGDOMULTNAMEALL\"].unique()\n",
    "legsub_names = df[\"EFX_LEGSUBNAMEALL\"].unique()\n",
    "\n",
    "# Create a graph\n",
    "G = nx.DiGraph()\n",
    "\n",
    "# Add the nodes with level attributes\n",
    "for affil in affil_names:\n",
    "    G.add_node(affil, level=0)\n",
    "for legdom in legdom_names:\n",
    "    G.add_node(legdom, level=1)\n",
    "for legsub in legsub_names:\n",
    "    G.add_node(legsub, level=2)\n",
    "\n",
    "# Add edges from affiliation to legal domain\n",
    "for affil in affil_names:\n",
    "    for legdom in legdom_names:\n",
    "        if (\n",
    "            df[\n",
    "                (df[\"EFX_AFFLULTNAMEALL\"] == affil)\n",
    "                & (df[\"EFX_LEGDOMULTNAMEALL\"] == legdom)\n",
    "            ].shape[0]\n",
    "            > 0\n",
    "        ):\n",
    "            G.add_edge(affil, legdom)\n",
    "\n",
    "# Add edges from legal domain to legal sub\n",
    "legdom_to_legsub = {}\n",
    "for legdom in legdom_names:\n",
    "    legdom_to_legsub[legdom] = []\n",
    "    for legsub in sorted(legsub_names):  # Sorting legal sub names alphabetically\n",
    "        if (\n",
    "            df[\n",
    "                (df[\"EFX_LEGDOMULTNAMEALL\"] == legdom)\n",
    "                & (df[\"EFX_LEGSUBNAMEALL\"] == legsub)\n",
    "            ].shape[0]\n",
    "            > 0\n",
    "        ):\n",
    "            G.add_edge(legdom, legsub)\n",
    "            legdom_to_legsub[legdom].append(legsub)\n",
    "\n",
    "# Get all nodes from the graph\n",
    "all_nodes = list(G.nodes())\n",
    "\n",
    "# Sort leaf nodes (nodes with no outgoing edges) alphabetically\n",
    "leaf_nodes = sorted([node for node in all_nodes if G.out_degree(node) == 0])\n",
    "\n",
    "\n",
    "# Custom positioning\n",
    "pos = {}\n",
    "node_textposition = {}  # Store text positions for each node\n",
    "\n",
    "# Root node (level 0) on the left\n",
    "root_nodes = [n for n in all_nodes if G.nodes[n][\"level\"] == 0]\n",
    "for i, node in enumerate(root_nodes):\n",
    "    pos[node] = (-4.5, 0.5)\n",
    "    node_textposition[node] = \"top right\"  # Right of the root node\n",
    "\n",
    "# Middle nodes (level 1) slightly to the right\n",
    "middle_nodes = [n for n in all_nodes if G.nodes[n][\"level\"] == 1]\n",
    "middle_y_spacing = 2.0  # Increased spacing between middle nodes\n",
    "for i, node in enumerate(middle_nodes):\n",
    "    y_pos = i * middle_y_spacing - (len(middle_nodes) * middle_y_spacing / 2)\n",
    "    pos[node] = (2, y_pos)\n",
    "    node_textposition[node] = \"top right\"  # Default for middle nodes\n",
    "\n",
    "# Position leaf nodes in circles around their respective middle nodes\n",
    "for middle_node in middle_nodes:\n",
    "    # Get leaf nodes connected to this middle node\n",
    "    leaves = legdom_to_legsub.get(middle_node, [])\n",
    "    if not leaves:\n",
    "        continue\n",
    "\n",
    "    # Increase radius based on number of leaves\n",
    "    num_leaves = len(leaves)\n",
    "    base_radius = 1.5  # Base radius\n",
    "    # Dynamically adjust radius based on number of leaves\n",
    "    circle_radius = base_radius + (0.1 * num_leaves)\n",
    "\n",
    "    # Calculate positions in a circle\n",
    "    angle_step = 2 * math.pi / num_leaves\n",
    "    middle_x, middle_y = pos[middle_node]\n",
    "\n",
    "    for i, leaf in enumerate(leaves):\n",
    "        # Distribute leaves evenly in a circle\n",
    "        angle = i * angle_step\n",
    "\n",
    "        # Add small random variation to prevent exact overlaps\n",
    "        jitter = 0.05\n",
    "        rand_offset_x = np.random.uniform(-jitter, jitter)\n",
    "        rand_offset_y = np.random.uniform(-jitter, jitter)\n",
    "\n",
    "        x = middle_x + circle_radius * math.cos(angle) + rand_offset_x\n",
    "        y = middle_y + circle_radius * math.sin(angle) + rand_offset_y\n",
    "        pos[leaf] = (x, y)\n",
    "\n",
    "        node_textposition[leaf] = determine_text_position(angle)\n",
    "\n",
    "\n",
    "# Make sure all nodes have positions (fix for KeyError)\n",
    "for node in all_nodes:\n",
    "    if node not in pos:\n",
    "        # Assign a default position for any missed nodes\n",
    "        pos[node] = (4, 0)  # Off to the right side\n",
    "        node_textposition[node] = \"top right\"  # Default position\n",
    "\n",
    "# Extract node positions for visualization\n",
    "node_x = []\n",
    "node_y = []\n",
    "node_text = []\n",
    "node_color = []\n",
    "node_size = []\n",
    "node_positions = []  # List to store text positions\n",
    "\n",
    "for node in all_nodes:\n",
    "    x, y = pos[node]\n",
    "    node_x.append(x)\n",
    "    node_y.append(y)\n",
    "    node_text.append(node)\n",
    "    node_positions.append(node_textposition[node])\n",
    "\n",
    "    # Assign colors and sizes based on level\n",
    "    level = G.nodes[node][\"level\"]\n",
    "    if level == 0:\n",
    "        node_color.append(\"black\")\n",
    "        node_size.append(20)  # Larger size for root\n",
    "    elif level == 1:\n",
    "        node_color.append(\"orange\")\n",
    "        node_size.append(15)  # Medium size for middle\n",
    "    else:\n",
    "        node_color.append(\"blue\")\n",
    "        node_size.append(10)  # Smaller size for leaves\n",
    "\n",
    "# Create edges\n",
    "edge_x = []\n",
    "edge_y = []\n",
    "for edge in G.edges():\n",
    "    x0, y0 = pos[edge[0]]\n",
    "    x1, y1 = pos[edge[1]]\n",
    "    edge_x.extend([x0, x1, None])\n",
    "    edge_y.extend([y0, y1, None])\n",
    "\n",
    "# Create edge trace\n",
    "edge_trace = go.Scatter(\n",
    "    x=edge_x, y=edge_y, line=dict(width=1, color=\"#888\"), hoverinfo=\"none\", mode=\"lines\"\n",
    ")\n",
    "\n",
    "# Create node trace with appropriate text positioning\n",
    "node_trace = go.Scatter(\n",
    "    x=node_x,\n",
    "    y=node_y,\n",
    "    mode=\"markers+text\",\n",
    "    hoverinfo=\"text\",\n",
    "    text=node_text,\n",
    "    textposition=node_positions,  # Use the clock-based positioning\n",
    "    marker=dict(color=node_color, size=node_size, line=dict(width=2)),\n",
    ")\n",
    "\n",
    "# Create the figure\n",
    "fig = go.Figure(\n",
    "    data=[edge_trace, node_trace],\n",
    "    layout=go.Layout(\n",
    "        showlegend=False,\n",
    "        hovermode=\"closest\",\n",
    "        margin=dict(b=20, l=5, r=5, t=40),\n",
    "        xaxis=dict(showgrid=False, zeroline=False, showticklabels=False),\n",
    "        yaxis=dict(showgrid=False, zeroline=False, showticklabels=False),\n",
    "        plot_bgcolor=\"white\",\n",
    "    ),\n",
    ")\n",
    "\n",
    "fig.update_layout(\n",
    "    title=\"Organizational Hierarchy (Circular Leaf Nodes with Clock Positioning)\",\n",
    "    font=dict(size=12),\n",
    "    height=800,\n",
    "    width=1200,\n",
    ")\n",
    "\n",
    "# Show the plot\n",
    "fig.show()"
   ]
  },
  {
   "cell_type": "code",
   "execution_count": null,
   "metadata": {},
   "outputs": [
    {
     "name": "stderr",
     "output_type": "stream",
     "text": [
      "2025-04-02 13:01:50.171 WARNING streamlit.runtime.scriptrunner_utils.script_run_context: Thread 'MainThread': missing ScriptRunContext! This warning can be ignored when running in bare mode.\n",
      "2025-04-02 13:01:50.171 WARNING streamlit.runtime.scriptrunner_utils.script_run_context: Thread 'MainThread': missing ScriptRunContext! This warning can be ignored when running in bare mode.\n",
      "2025-04-02 13:01:50.217 \n",
      "  \u001b[33m\u001b[1mWarning:\u001b[0m to view this Streamlit app on a browser, run it with the following\n",
      "  command:\n",
      "\n",
      "    streamlit run /Users/mayurgd/miniconda3/envs/agentic_ai/lib/python3.12/site-packages/ipykernel_launcher.py [ARGUMENTS]\n",
      "2025-04-02 13:01:50.217 Thread 'MainThread': missing ScriptRunContext! This warning can be ignored when running in bare mode.\n",
      "2025-04-02 13:01:50.218 Thread 'MainThread': missing ScriptRunContext! This warning can be ignored when running in bare mode.\n",
      "2025-04-02 13:01:50.219 Thread 'MainThread': missing ScriptRunContext! This warning can be ignored when running in bare mode.\n",
      "2025-04-02 13:01:50.220 Thread 'MainThread': missing ScriptRunContext! This warning can be ignored when running in bare mode.\n",
      "2025-04-02 13:01:50.220 Thread 'MainThread': missing ScriptRunContext! This warning can be ignored when running in bare mode.\n"
     ]
    },
    {
     "data": {
      "text/plain": [
       "DeltaGenerator()"
      ]
     },
     "execution_count": 114,
     "metadata": {},
     "output_type": "execute_result"
    }
   ],
   "source": [
    "import streamlit as st\n",
    "import pandas as pd\n",
    "import plotly.graph_objects as go\n",
    "import networkx as nx\n",
    "import math\n",
    "import numpy as np\n",
    "\n",
    "\n",
    "# Streamlit UI\n",
    "st.set_page_config(layout=\"wide\")\n",
    "st.title(\"Organizational Hierarchy Visualization\")\n",
    "st.plotly_chart(fig, use_container_width=True)"
   ]
  },
  {
   "cell_type": "code",
   "execution_count": null,
   "metadata": {},
   "outputs": [],
   "source": []
  }
 ],
 "metadata": {
  "kernelspec": {
   "display_name": "agentic_ai",
   "language": "python",
   "name": "python3"
  },
  "language_info": {
   "codemirror_mode": {
    "name": "ipython",
    "version": 3
   },
   "file_extension": ".py",
   "mimetype": "text/x-python",
   "name": "python",
   "nbconvert_exporter": "python",
   "pygments_lexer": "ipython3",
   "version": "3.12.9"
  }
 },
 "nbformat": 4,
 "nbformat_minor": 2
}
